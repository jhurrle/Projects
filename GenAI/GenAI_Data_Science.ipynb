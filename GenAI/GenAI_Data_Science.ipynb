{
 "cells": [
  {
   "cell_type": "markdown",
   "id": "aba2d04b-c29a-44bc-a25e-171d29d9a95b",
   "metadata": {},
   "source": [
    "# Generative AI"
   ]
  },
  {
   "cell_type": "markdown",
   "id": "003ebf39-520d-4024-b5b9-1ad26de7b9a5",
   "metadata": {},
   "source": [
    "### What is a Generative AI (GenAI) Model?\n",
    "\n",
    "A **Generative AI (GenAI) model** is a type of artificial intelligence that creates new content or data by learning from existing examples. It generates text, images, or other media based on patterns it has learned from its training data. Examples include models like GPT-3 for text generation and DALL-E for image creation.\n"
   ]
  },
  {
   "cell_type": "code",
   "execution_count": 1,
   "id": "17091407-f6a2-4fa7-b5fa-66e10c1ea034",
   "metadata": {},
   "outputs": [
    {
     "name": "stdout",
     "output_type": "stream",
     "text": [
      "Requirement already satisfied: fpdf in c:\\users\\cacho\\anaconda3\\lib\\site-packages (1.7.2)\n",
      "Note: you may need to restart the kernel to use updated packages.\n"
     ]
    },
    {
     "name": "stderr",
     "output_type": "stream",
     "text": [
      "\n",
      "[notice] A new release of pip is available: 23.1.2 -> 24.2\n",
      "[notice] To update, run: python.exe -m pip install --upgrade pip\n"
     ]
    }
   ],
   "source": [
    "pip install fpdf"
   ]
  },
  {
   "cell_type": "code",
   "execution_count": 2,
   "id": "20d99a6b-bf8d-4594-8ac9-79c098a3ca93",
   "metadata": {},
   "outputs": [],
   "source": [
    "#libraries\n",
    "import numpy as np\n",
    "import tensorflow as tf\n",
    "import matplotlib.pyplot as plt\n",
    "import re\n",
    "from fpdf import FPDF\n",
    "from tensorflow.keras.models import Sequential\n",
    "from tensorflow.keras.layers import LSTM, Dense, Embedding\n",
    "from tensorflow.keras.utils import to_categorical\n",
    "from tensorflow.keras.preprocessing.text import Tokenizer\n",
    "from tensorflow.keras.preprocessing.sequence import pad_sequences"
   ]
  },
  {
   "cell_type": "code",
   "execution_count": 3,
   "id": "84e95a42-90d6-4913-a6a4-85c2884bec8c",
   "metadata": {},
   "outputs": [],
   "source": [
    "# ANSI escape code for red text\n",
    "RED = '\\033[91m'\n",
    "RESET = '\\033[0m'"
   ]
  },
  {
   "cell_type": "code",
   "execution_count": 4,
   "id": "cfda2cda-c483-429b-92cb-bc9ab0b60c1e",
   "metadata": {},
   "outputs": [],
   "source": [
    "#Dataset\n",
    "text = \"\"\"\n",
    "Data science is an interdisciplinary academic field that uses statistics, scientific computing, scientific methods, processes, scientific visualization, algorithms and systems to extract or extrapolate knowledge and insights from potentially noisy, structured, or unstructured data.\n",
    "Data science also integrates domain knowledge from the underlying application domain (e.g., natural sciences, information technology, and medicine). Data science is multifaceted and can be described as a science, a research paradigm, a research method, a discipline, a workflow, and a profession.\n",
    "Data science is \"a concept to unify statistics, data analysis, informatics, and their related methods\" to \"understand and analyze actual phenomena\" with data. It uses techniques and theories drawn from many fields within the context of mathematics, statistics, computer science, information science, and domain knowledge. However, data science is different from computer science and information science. Turing Award winner Jim Gray imagined data science as a \"fourth paradigm\" of science (empirical, theoretical, computational, and now data-driven) and asserted that \"everything about science is changing because of the impact of information technology\" and the data deluge.\n",
    "A data scientist is a professional who creates programming code and combines it with statistical knowledge to create insights from data.\n",
    "Foundations\n",
    "an interdisciplinary academic field that uses statistics, scientific computing, scientific methods, processes, scientific visualization, algorithms and systems to extract or extrapolate knowledge and insights from potentially noisy, structured, or unstructured data.\n",
    "\"\"\""
   ]
  },
  {
   "cell_type": "code",
   "execution_count": 5,
   "id": "ccf8fa52-0dbd-43d5-b52e-f0ab7d643294",
   "metadata": {},
   "outputs": [],
   "source": [
    "# Convert to lowercase\n",
    "text = text.lower()\n",
    "\n",
    "# Remove punctuation, commas, parentheses, quotes, and special characters\n",
    "text = re.sub(r'[^\\w\\s]', '', text)  # Removes all punctuation except underscores\n",
    "text = re.sub(r'\\s+', ' ', text)      # Replace multiple spaces with a single space"
   ]
  },
  {
   "cell_type": "code",
   "execution_count": 6,
   "id": "c7372634-785c-460f-953a-eb84836e0186",
   "metadata": {},
   "outputs": [],
   "source": [
    "# Tokenize the text\n",
    "#This generates the tokenizer for each word and counts how many words exist in the text.\n",
    "tokenizer = Tokenizer()\n",
    "tokenizer.fit_on_texts([text])\n",
    "total_words = len(tokenizer.word_index) + 1"
   ]
  },
  {
   "cell_type": "code",
   "execution_count": 7,
   "id": "ca774a04-4000-4602-87bd-e0d9e3216375",
   "metadata": {},
   "outputs": [],
   "source": [
    "# Assuming `text` is your input text\n",
    "input_sequences = []\n",
    "for line in text.split('\\n'):\n",
    "    # Convert the line into a sequence of integers\n",
    "    token_list = tokenizer.texts_to_sequences([line])[0]\n",
    "    for i in range(1, len(token_list)):\n",
    "        n_gram_sequence = token_list[:i+1]\n",
    "        input_sequences.append(n_gram_sequence)\n",
    "\n",
    "# Ensure that all sequences are lists of integers\n",
    "for sequence in input_sequences:\n",
    "    assert all(isinstance(item, int) for item in sequence), \"Non-integer found in sequences!\"\n"
   ]
  },
  {
   "cell_type": "code",
   "execution_count": 8,
   "id": "5323c476-d658-499e-997c-1caf6a158865",
   "metadata": {},
   "outputs": [
    {
     "name": "stdout",
     "output_type": "stream",
     "text": [
      "\u001b[91mWord to Integer Mapping: This is just to understand how it's working and how the n_gram_sequences are made.\u001b[0m\n",
      "{'and': 1, 'data': 2, 'science': 3, 'a': 4, 'is': 5, 'scientific': 6, 'from': 7, 'to': 8, 'knowledge': 9, 'statistics': 10, 'or': 11, 'the': 12, 'information': 13, 'of': 14, 'that': 15, 'uses': 16, 'methods': 17, 'insights': 18, 'domain': 19, 'an': 20, 'interdisciplinary': 21, 'academic': 22, 'field': 23, 'computing': 24, 'processes': 25, 'visualization': 26, 'algorithms': 27, 'systems': 28, 'extract': 29, 'extrapolate': 30, 'potentially': 31, 'noisy': 32, 'structured': 33, 'unstructured': 34, 'technology': 35, 'as': 36, 'research': 37, 'paradigm': 38, 'with': 39, 'it': 40, 'computer': 41, 'also': 42, 'integrates': 43, 'underlying': 44, 'application': 45, 'eg': 46, 'natural': 47, 'sciences': 48, 'medicine': 49, 'multifaceted': 50, 'can': 51, 'be': 52, 'described': 53, 'method': 54, 'discipline': 55, 'workflow': 56, 'profession': 57, 'concept': 58, 'unify': 59, 'analysis': 60, 'informatics': 61, 'their': 62, 'related': 63, 'understand': 64, 'analyze': 65, 'actual': 66, 'phenomena': 67, 'techniques': 68, 'theories': 69, 'drawn': 70, 'many': 71, 'fields': 72, 'within': 73, 'context': 74, 'mathematics': 75, 'however': 76, 'different': 77, 'turing': 78, 'award': 79, 'winner': 80, 'jim': 81, 'gray': 82, 'imagined': 83, 'fourth': 84, 'empirical': 85, 'theoretical': 86, 'computational': 87, 'now': 88, 'datadriven': 89, 'asserted': 90, 'everything': 91, 'about': 92, 'changing': 93, 'because': 94, 'impact': 95, 'deluge': 96, 'scientist': 97, 'professional': 98, 'who': 99, 'creates': 100, 'programming': 101, 'code': 102, 'combines': 103, 'statistical': 104, 'create': 105, 'foundations': 106}\n"
     ]
    }
   ],
   "source": [
    "# Get the word to integer mapping\n",
    "print(f\"{RED}Word to Integer Mapping: This is just to understand how it's working and how the n_gram_sequences are made.{RESET}\")\n",
    "\n",
    "# Get the word to integer mapping\n",
    "word_index = tokenizer.word_index\n",
    "print(word_index)"
   ]
  },
  {
   "cell_type": "markdown",
   "id": "459b0cc7-37dd-4244-acb8-dfbb8a87f31e",
   "metadata": {},
   "source": [
    "This part is just to check sequences are being properly done, i would suggest testing manually, like this case to ensure they follow the proper structure"
   ]
  },
  {
   "cell_type": "code",
   "execution_count": 9,
   "id": "48b22b8b-a911-4f29-b732-24bc3d9af139",
   "metadata": {},
   "outputs": [
    {
     "name": "stdout",
     "output_type": "stream",
     "text": [
      "Sequence 1: [2, 3]\n",
      "Sequence 2: [2, 3, 5]\n",
      "Sequence 3: [2, 3, 5, 20]\n"
     ]
    }
   ],
   "source": [
    "#input_sequences\n",
    "#[17, 1]:\n",
    "#This represents the first n-gram: \"In a\".\n",
    "#[17, 1, 18]:\n",
    "#This represents the second n-gram: \"In a far\".\n",
    "# Get the first 20 input sequences\n",
    "first_20_sequences = input_sequences[:3]\n",
    "\n",
    "# Print the first 20 sequences\n",
    "for i, seq in enumerate(first_20_sequences):\n",
    "    print(f\"Sequence {i+1}: {seq}\")"
   ]
  },
  {
   "cell_type": "code",
   "execution_count": 10,
   "id": "0f463ab0-6a34-49fc-b584-1d81e4c08506",
   "metadata": {},
   "outputs": [
    {
     "name": "stdout",
     "output_type": "stream",
     "text": [
      "Sequence 1: [2, 3, 5, 20, 21, 22, 23, 15, 16, 10, 6, 24, 6, 17, 25, 6, 26, 27, 1, 28, 8, 29, 11, 30, 9, 1, 18, 7, 31, 32]\n",
      "Sequence 2: [2, 3, 5, 20, 21, 22, 23, 15, 16, 10, 6, 24, 6, 17, 25, 6, 26, 27, 1, 28, 8, 29, 11, 30, 9, 1, 18, 7, 31, 32, 33]\n",
      "Sequence 3: [2, 3, 5, 20, 21, 22, 23, 15, 16, 10, 6, 24, 6, 17, 25, 6, 26, 27, 1, 28, 8, 29, 11, 30, 9, 1, 18, 7, 31, 32, 33, 11]\n",
      "Sequence 4: [2, 3, 5, 20, 21, 22, 23, 15, 16, 10, 6, 24, 6, 17, 25, 6, 26, 27, 1, 28, 8, 29, 11, 30, 9, 1, 18, 7, 31, 32, 33, 11, 34]\n",
      "Sequence 5: [2, 3, 5, 20, 21, 22, 23, 15, 16, 10, 6, 24, 6, 17, 25, 6, 26, 27, 1, 28, 8, 29, 11, 30, 9, 1, 18, 7, 31, 32, 33, 11, 34, 2]\n"
     ]
    }
   ],
   "source": [
    "# Find the index of the sequence containing the number 31\n",
    "index_31 = next((i for i, seq in enumerate(input_sequences) if 31 in seq), None)\n",
    "\n",
    "# Check if the index was found\n",
    "if index_31 is not None:\n",
    "    # Get the next 10 sequences after the one containing 31\n",
    "    next_10_sequences = input_sequences[index_31 + 1: index_31 + 1 + 5]\n",
    "    \n",
    "    # Print the next 10 sequences\n",
    "    for i, seq in enumerate(next_10_sequences):\n",
    "        print(f\"Sequence {i+1}: {seq}\")\n",
    "else:\n",
    "    print(\"No sequence containing the number 31 was found.\")"
   ]
  },
  {
   "cell_type": "code",
   "execution_count": 11,
   "id": "70125e73-57f0-4a14-be13-92e04c9502c7",
   "metadata": {},
   "outputs": [],
   "source": [
    "# Pad sequences and create predictors and labels\n",
    "max_sequence_len = max([len(x) for x in input_sequences])\n",
    "input_sequences = np.array(pad_sequences(input_sequences, maxlen=max_sequence_len, padding='pre'))"
   ]
  },
  {
   "cell_type": "code",
   "execution_count": 12,
   "id": "0b23be73-3777-41a9-8f23-5bdbe9565dc6",
   "metadata": {},
   "outputs": [
    {
     "name": "stdout",
     "output_type": "stream",
     "text": [
      "\u001b[91mThis is just ensuring all sequences have the same length by adding 0's in this case 17 as seen in the variable max_sequence.\u001b[0m\n"
     ]
    },
    {
     "data": {
      "text/plain": [
       "array([[ 0,  0,  0, ...,  0,  2,  3],\n",
       "       [ 0,  0,  0, ...,  2,  3,  5],\n",
       "       [ 0,  0,  0, ...,  3,  5, 20],\n",
       "       ...,\n",
       "       [ 0,  0,  2, ..., 32, 33, 11],\n",
       "       [ 0,  2,  3, ..., 33, 11, 34],\n",
       "       [ 2,  3,  5, ..., 11, 34,  2]])"
      ]
     },
     "execution_count": 12,
     "metadata": {},
     "output_type": "execute_result"
    }
   ],
   "source": [
    "print(f\"{RED}This is just ensuring all sequences have the same length by adding 0's in this case 17 as seen in the variable max_sequence.{RESET}\")\n",
    "input_sequences"
   ]
  },
  {
   "cell_type": "code",
   "execution_count": 13,
   "id": "11844f02-a3bb-466d-86a1-26d107ec3e3d",
   "metadata": {},
   "outputs": [],
   "source": [
    "#X: Contains all but the last element of each sequence. It is used as the input for the model.\n",
    "#y: Contains only the last element of each sequence. It is used as the target output for the model.\n",
    "X, y = input_sequences[:,:-1], input_sequences[:,-1]\n",
    "y = to_categorical(y, num_classes=total_words)"
   ]
  },
  {
   "cell_type": "code",
   "execution_count": 14,
   "id": "574d9880-92e6-4506-8788-cf630d9b0708",
   "metadata": {},
   "outputs": [
    {
     "name": "stdout",
     "output_type": "stream",
     "text": [
      "Model: \"sequential\"\n",
      "_________________________________________________________________\n",
      " Layer (type)                Output Shape              Param #   \n",
      "=================================================================\n",
      " embedding (Embedding)       (None, 223, 120)          12840     \n",
      "                                                                 \n",
      " lstm (LSTM)                 (None, 180)               216720    \n",
      "                                                                 \n",
      " dense (Dense)               (None, 107)               19367     \n",
      "                                                                 \n",
      "=================================================================\n",
      "Total params: 248,927\n",
      "Trainable params: 248,927\n",
      "Non-trainable params: 0\n",
      "_________________________________________________________________\n",
      "Embedding Layer: Converts words into dense vectors for easier processing by the network.\n",
      "LSTM Layer: Captures and learns sequential patterns and dependencies in the data.\n",
      "Dense Layer: Provides the final output, predicting the probability distribution of the next word in the sequence.\n"
     ]
    }
   ],
   "source": [
    "#Build Model\n",
    "model = Sequential()\n",
    "model.add(Embedding(total_words, 120, input_length=max_sequence_len-1))\n",
    "model.add(LSTM(180))\n",
    "model.add(Dense(total_words, activation='softmax'))\n",
    "\n",
    "model.compile(loss='categorical_crossentropy', optimizer='adam', metrics=['accuracy'])\n",
    "\n",
    "model.summary()\n",
    "\n",
    "print('Embedding Layer: Converts words into dense vectors for easier processing by the network.')\n",
    "print('LSTM Layer: Captures and learns sequential patterns and dependencies in the data.')\n",
    "print('Dense Layer: Provides the final output, predicting the probability distribution of the next word in the sequence.')"
   ]
  },
  {
   "cell_type": "code",
   "execution_count": 15,
   "id": "55610c9c-ecda-4c48-a5d5-b511712d0dd9",
   "metadata": {},
   "outputs": [
    {
     "name": "stdout",
     "output_type": "stream",
     "text": [
      "Epoch 1/45\n",
      "7/7 [==============================] - 10s 499ms/step - loss: 4.6685 - accuracy: 0.0493\n",
      "Epoch 2/45\n",
      "7/7 [==============================] - 3s 455ms/step - loss: 4.5837 - accuracy: 0.1031\n",
      "Epoch 3/45\n",
      "7/7 [==============================] - 3s 496ms/step - loss: 4.3732 - accuracy: 0.0583\n",
      "Epoch 4/45\n",
      "7/7 [==============================] - 4s 515ms/step - loss: 4.3088 - accuracy: 0.0717\n",
      "Epoch 5/45\n",
      "7/7 [==============================] - 4s 492ms/step - loss: 4.2873 - accuracy: 0.0717\n",
      "Epoch 6/45\n",
      "7/7 [==============================] - 3s 469ms/step - loss: 4.2590 - accuracy: 0.0628\n",
      "Epoch 7/45\n",
      "7/7 [==============================] - 4s 511ms/step - loss: 4.2311 - accuracy: 0.0942\n",
      "Epoch 8/45\n",
      "7/7 [==============================] - 3s 452ms/step - loss: 4.1975 - accuracy: 0.0717\n",
      "Epoch 9/45\n",
      "7/7 [==============================] - 4s 553ms/step - loss: 4.1347 - accuracy: 0.0942\n",
      "Epoch 10/45\n",
      "7/7 [==============================] - 3s 491ms/step - loss: 4.0151 - accuracy: 0.1300\n",
      "Epoch 11/45\n",
      "7/7 [==============================] - 4s 550ms/step - loss: 3.8390 - accuracy: 0.1525\n",
      "Epoch 12/45\n",
      "7/7 [==============================] - 4s 513ms/step - loss: 3.7145 - accuracy: 0.1390\n",
      "Epoch 13/45\n",
      "7/7 [==============================] - 4s 585ms/step - loss: 3.5726 - accuracy: 0.1435\n",
      "Epoch 14/45\n",
      "7/7 [==============================] - 4s 544ms/step - loss: 3.3924 - accuracy: 0.1794\n",
      "Epoch 15/45\n",
      "7/7 [==============================] - 4s 578ms/step - loss: 3.2408 - accuracy: 0.1839\n",
      "Epoch 16/45\n",
      "7/7 [==============================] - 4s 574ms/step - loss: 3.0707 - accuracy: 0.1883\n",
      "Epoch 17/45\n",
      "7/7 [==============================] - 4s 531ms/step - loss: 2.9183 - accuracy: 0.2063\n",
      "Epoch 18/45\n",
      "7/7 [==============================] - 4s 558ms/step - loss: 2.7909 - accuracy: 0.2422\n",
      "Epoch 19/45\n",
      "7/7 [==============================] - 4s 554ms/step - loss: 2.6271 - accuracy: 0.2601\n",
      "Epoch 20/45\n",
      "7/7 [==============================] - 4s 553ms/step - loss: 2.4849 - accuracy: 0.2870\n",
      "Epoch 21/45\n",
      "7/7 [==============================] - 4s 572ms/step - loss: 2.3610 - accuracy: 0.3363\n",
      "Epoch 22/45\n",
      "7/7 [==============================] - 4s 580ms/step - loss: 2.2359 - accuracy: 0.3274\n",
      "Epoch 23/45\n",
      "7/7 [==============================] - 4s 561ms/step - loss: 2.1497 - accuracy: 0.3901\n",
      "Epoch 24/45\n",
      "7/7 [==============================] - 4s 606ms/step - loss: 2.0340 - accuracy: 0.4170\n",
      "Epoch 25/45\n",
      "7/7 [==============================] - 4s 607ms/step - loss: 1.9334 - accuracy: 0.4439\n",
      "Epoch 26/45\n",
      "7/7 [==============================] - 4s 597ms/step - loss: 1.8649 - accuracy: 0.4798\n",
      "Epoch 27/45\n",
      "7/7 [==============================] - 4s 586ms/step - loss: 1.7811 - accuracy: 0.4798\n",
      "Epoch 28/45\n",
      "7/7 [==============================] - 4s 562ms/step - loss: 1.7064 - accuracy: 0.4978\n",
      "Epoch 29/45\n",
      "7/7 [==============================] - 4s 590ms/step - loss: 1.6034 - accuracy: 0.6054\n",
      "Epoch 30/45\n",
      "7/7 [==============================] - 4s 609ms/step - loss: 1.5398 - accuracy: 0.6368\n",
      "Epoch 31/45\n",
      "7/7 [==============================] - 4s 596ms/step - loss: 1.4835 - accuracy: 0.6816\n",
      "Epoch 32/45\n",
      "7/7 [==============================] - 4s 570ms/step - loss: 1.3952 - accuracy: 0.7040\n",
      "Epoch 33/45\n",
      "7/7 [==============================] - 4s 608ms/step - loss: 1.3401 - accuracy: 0.7220\n",
      "Epoch 34/45\n",
      "7/7 [==============================] - 4s 598ms/step - loss: 1.2736 - accuracy: 0.7758\n",
      "Epoch 35/45\n",
      "7/7 [==============================] - 4s 600ms/step - loss: 1.2077 - accuracy: 0.7937\n",
      "Epoch 36/45\n",
      "7/7 [==============================] - 4s 598ms/step - loss: 1.1553 - accuracy: 0.7803\n",
      "Epoch 37/45\n",
      "7/7 [==============================] - 4s 580ms/step - loss: 1.1270 - accuracy: 0.8206\n",
      "Epoch 38/45\n",
      "7/7 [==============================] - 4s 599ms/step - loss: 1.0706 - accuracy: 0.8700\n",
      "Epoch 39/45\n",
      "7/7 [==============================] - 4s 596ms/step - loss: 1.0115 - accuracy: 0.8879\n",
      "Epoch 40/45\n",
      "7/7 [==============================] - 4s 580ms/step - loss: 0.9725 - accuracy: 0.8924\n",
      "Epoch 41/45\n",
      "7/7 [==============================] - 4s 593ms/step - loss: 0.9054 - accuracy: 0.9417\n",
      "Epoch 42/45\n",
      "7/7 [==============================] - 4s 604ms/step - loss: 0.8620 - accuracy: 0.9462\n",
      "Epoch 43/45\n",
      "7/7 [==============================] - 4s 601ms/step - loss: 0.8200 - accuracy: 0.9552\n",
      "Epoch 44/45\n",
      "7/7 [==============================] - 4s 554ms/step - loss: 0.7777 - accuracy: 0.9776\n",
      "Epoch 45/45\n",
      "7/7 [==============================] - 4s 546ms/step - loss: 0.7408 - accuracy: 0.9821\n"
     ]
    }
   ],
   "source": [
    "#Train the model\n",
    "history = model.fit(X, y, epochs=45, verbose=1)"
   ]
  },
  {
   "cell_type": "code",
   "execution_count": 16,
   "id": "5d8b9529-eb8f-4e4e-b13e-f9542cfe1405",
   "metadata": {},
   "outputs": [
    {
     "data": {
      "image/png": "[encoded data removed]",
      "text/plain": [
       "<Figure size 432x288 with 1 Axes>"
      ]
     },
     "metadata": {
      "needs_background": "light"
     },
     "output_type": "display_data"
    }
   ],
   "source": [
    "# Plot training & validation loss values\n",
    "plt.plot(history.history['loss'])\n",
    "plt.title('Model Loss')\n",
    "plt.xlabel('Epoch')\n",
    "plt.ylabel('Loss')\n",
    "plt.legend(['Train'])\n",
    "plt.show()"
   ]
  },
  {
   "cell_type": "code",
   "execution_count": 17,
   "id": "f0149a8b-e96d-40a4-9af4-4705efb29b06",
   "metadata": {},
   "outputs": [
    {
     "data": {
      "text/plain": [
       "'Artificial Intelligence science is an interdisciplinary academic field that uses statistics scientific computing scientific methods processes scientific visualization algorithms and systems to extract or extrapolate knowledge and insights from potentially noisy structured or unstructured data data science also integrates domain knowledge from the underlying application domain eg natural sciences information technology and medicine data science is multifaceted and can be described as a a research a research method a discipline a a workflow and a profession data science is a concept to unify statistics data analysis informatics and their related methods to understand and analyze actual phenomena with data it uses techniques and theories drawn from many fields within the context of mathematics statistics computer science information science and domain knowledge however data science is different from computer science and information science turing award winner jim gray imagined data science as a fourth paradigm of science empirical theoretical computational and now datadriven and asserted that everything about science is changing because of the of the information technology and the data deluge a data scientist is a professional who creates programming code and combines it with statistical knowledge to create insights from data foundations an interdisciplinary academic field that uses statistics scientific computing scientific methods processes scientific visualization algorithms and systems to extract or extrapolate knowledge and insights from potentially noisy structured or unstructured data data science also integrates domain knowledge from the underlying application domain eg natural sciences information technology and medicine data science is multifaceted and can be described as a a research a research method a discipline a a workflow and a profession data science is a concept to unify statistics data analysis informatics and their related methods to understand and analyze actual phenomena with data it uses techniques and theories drawn from many fields within the context of mathematics'"
      ]
     },
     "execution_count": 17,
     "metadata": {},
     "output_type": "execute_result"
    }
   ],
   "source": [
    "def generate_text(seed_text, next_words, max_sequence_len):\n",
    "    for _ in range(next_words):\n",
    "        token_list = tokenizer.texts_to_sequences([seed_text])[0]\n",
    "        token_list = pad_sequences([token_list], maxlen=max_sequence_len-1, padding='pre')\n",
    "        predicted = model.predict(token_list, verbose=0)\n",
    "        predicted_word = tokenizer.index_word[np.argmax(predicted)]\n",
    "        seed_text += \" \" + predicted_word\n",
    "    return seed_text\n",
    "\n",
    "generated_text = generate_text(\"Artificial Intelligence\", 300, max_sequence_len)\n",
    "generated_text"
   ]
  },
  {
   "cell_type": "code",
   "execution_count": 18,
   "id": "078ec6a7-aa7e-479c-9a3a-54fb48e18a9c",
   "metadata": {},
   "outputs": [],
   "source": [
    "def save_text_as_pdf(text, pdf_filename):\n",
    "    # Create instance of FPDF class\n",
    "    pdf = FPDF()\n",
    "    pdf.add_page()\n",
    "    pdf.set_auto_page_break(auto=True, margin=15)\n",
    "    pdf.set_font(\"Arial\", size=12)\n",
    "\n",
    "    # Add text to PDF\n",
    "    pdf.multi_cell(0, 10, text)\n",
    "\n",
    "    # Save the PDF\n",
    "    pdf.output(pdf_filename)\n",
    "\n",
    "# Save the generated text as a PDF\n",
    "save_text_as_pdf(generated_text, \"AI_text.pdf\")\n"
   ]
  }
 ],
 "metadata": {
  "kernelspec": {
   "display_name": "Python 3 (ipykernel)",
   "language": "python",
   "name": "python3"
  },
  "language_info": {
   "codemirror_mode": {
    "name": "ipython",
    "version": 3
   },
   "file_extension": ".py",
   "mimetype": "text/x-python",
   "name": "python",
   "nbconvert_exporter": "python",
   "pygments_lexer": "ipython3",
   "version": "3.9.12"
  }
 },
 "nbformat": 4,
 "nbformat_minor": 5
}
