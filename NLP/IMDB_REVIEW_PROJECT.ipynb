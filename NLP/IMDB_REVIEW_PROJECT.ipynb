{
 "cells": [
  {
   "cell_type": "markdown",
   "id": "591c0069",
   "metadata": {},
   "source": [
    "### Librerias a utilizar"
   ]
  },
  {
   "cell_type": "code",
   "execution_count": 1,
   "id": "328caaf4",
   "metadata": {},
   "outputs": [
    {
     "name": "stdout",
     "output_type": "stream",
     "text": [
      "Requirement already satisfied: textblob in c:\\users\\cacho\\anaconda3\\lib\\site-packages (0.17.1)\n",
      "Requirement already satisfied: nltk>=3.1 in c:\\users\\cacho\\anaconda3\\lib\\site-packages (from textblob) (3.7)\n",
      "Requirement already satisfied: joblib in c:\\users\\cacho\\anaconda3\\lib\\site-packages (from nltk>=3.1->textblob) (1.2.0)\n",
      "Requirement already satisfied: click in c:\\users\\cacho\\anaconda3\\lib\\site-packages (from nltk>=3.1->textblob) (8.0.4)\n",
      "Requirement already satisfied: regex>=2021.8.3 in c:\\users\\cacho\\anaconda3\\lib\\site-packages (from nltk>=3.1->textblob) (2022.3.15)\n",
      "Requirement already satisfied: tqdm in c:\\users\\cacho\\anaconda3\\lib\\site-packages (from nltk>=3.1->textblob) (4.64.0)\n",
      "Requirement already satisfied: colorama in c:\\users\\cacho\\anaconda3\\lib\\site-packages (from click->nltk>=3.1->textblob) (0.4.4)\n",
      "Note: you may need to restart the kernel to use updated packages.\n"
     ]
    }
   ],
   "source": [
    "pip install textblob"
   ]
  },
  {
   "cell_type": "code",
   "execution_count": 2,
   "id": "2d8e4c00",
   "metadata": {},
   "outputs": [
    {
     "name": "stdout",
     "output_type": "stream",
     "text": [
      "Requirement already satisfied: threadpoolctl in c:\\users\\cacho\\anaconda3\\lib\\site-packages (2.2.0)Note: you may need to restart the kernel to use updated packages.\n",
      "Collecting threadpoolctl\n",
      "  Downloading threadpoolctl-3.1.0-py3-none-any.whl (14 kB)\n",
      "Installing collected packages: threadpoolctl\n",
      "  Attempting uninstall: threadpoolctl\n",
      "    Found existing installation: threadpoolctl 2.2.0\n",
      "    Uninstalling threadpoolctl-2.2.0:\n",
      "      Successfully uninstalled threadpoolctl-2.2.0\n",
      "Successfully installed threadpoolctl-3.1.0\n",
      "\n"
     ]
    }
   ],
   "source": [
    "pip install --upgrade threadpoolctl"
   ]
  },
  {
   "cell_type": "code",
   "execution_count": 3,
   "id": "928ff9c8",
   "metadata": {},
   "outputs": [],
   "source": [
    "import matplotlib.pyplot as plt\n",
    "import pandas as pd\n",
    "import pickle\n",
    "import numpy as np\n",
    "import glob\n",
    "import os\n",
    "import string\n",
    "import emoji\n",
    "from nltk.stem import SnowballStemmer\n",
    "from nltk import tokenize \n",
    "from textblob import TextBlob\n",
    "from nltk.tokenize import word_tokenize \n",
    "from collections import Counter\n",
    "from bs4 import BeautifulSoup\n",
    "from nltk.stem import PorterStemmer\n",
    "import nltk\n",
    "import csv\n",
    "import re\n",
    "import pandas as pd\n",
    "from nltk.corpus import stopwords\n",
    "from sklearn.feature_extraction.text import TfidfVectorizer\n",
    "from sklearn.metrics.pairwise import cosine_similarity\n",
    "from collections import Counter\n",
    "from sklearn.linear_model import LogisticRegression\n",
    "from sklearn.metrics import accuracy_score\n",
    "from sklearn.model_selection import train_test_split\n",
    "from sklearn.preprocessing import StandardScaler\n",
    "from nltk.corpus import names"
   ]
  },
  {
   "cell_type": "code",
   "execution_count": 4,
   "id": "865cf525",
   "metadata": {},
   "outputs": [
    {
     "name": "stderr",
     "output_type": "stream",
     "text": [
      "[nltk_data] Downloading package words to\n",
      "[nltk_data]     C:\\Users\\cacho\\AppData\\Roaming\\nltk_data...\n",
      "[nltk_data]   Package words is already up-to-date!\n"
     ]
    },
    {
     "data": {
      "text/plain": [
       "True"
      ]
     },
     "execution_count": 4,
     "metadata": {},
     "output_type": "execute_result"
    }
   ],
   "source": [
    "nltk.download('words')"
   ]
  },
  {
   "cell_type": "code",
   "execution_count": 5,
   "id": "355c531d",
   "metadata": {},
   "outputs": [
    {
     "name": "stderr",
     "output_type": "stream",
     "text": [
      "[nltk_data] Downloading package names to\n",
      "[nltk_data]     C:\\Users\\cacho\\AppData\\Roaming\\nltk_data...\n",
      "[nltk_data]   Package names is already up-to-date!\n"
     ]
    },
    {
     "data": {
      "text/plain": [
       "True"
      ]
     },
     "execution_count": 5,
     "metadata": {},
     "output_type": "execute_result"
    }
   ],
   "source": [
    "nltk.download('names')"
   ]
  },
  {
   "cell_type": "code",
   "execution_count": 6,
   "id": "af648cf2",
   "metadata": {},
   "outputs": [
    {
     "name": "stderr",
     "output_type": "stream",
     "text": [
      "[nltk_data] Downloading package averaged_perceptron_tagger to\n",
      "[nltk_data]     C:\\Users\\cacho\\AppData\\Roaming\\nltk_data...\n",
      "[nltk_data]   Package averaged_perceptron_tagger is already up-to-\n",
      "[nltk_data]       date!\n"
     ]
    },
    {
     "data": {
      "text/plain": [
       "True"
      ]
     },
     "execution_count": 6,
     "metadata": {},
     "output_type": "execute_result"
    }
   ],
   "source": [
    "nltk.download('averaged_perceptron_tagger')"
   ]
  },
  {
   "cell_type": "code",
   "execution_count": 7,
   "id": "42ea5079",
   "metadata": {},
   "outputs": [
    {
     "name": "stderr",
     "output_type": "stream",
     "text": [
      "[nltk_data] Downloading package maxent_ne_chunker to\n",
      "[nltk_data]     C:\\Users\\cacho\\AppData\\Roaming\\nltk_data...\n",
      "[nltk_data]   Package maxent_ne_chunker is already up-to-date!\n"
     ]
    },
    {
     "data": {
      "text/plain": [
       "True"
      ]
     },
     "execution_count": 7,
     "metadata": {},
     "output_type": "execute_result"
    }
   ],
   "source": [
    "nltk.download('maxent_ne_chunker')"
   ]
  },
  {
   "cell_type": "code",
   "execution_count": 8,
   "id": "333b20e9",
   "metadata": {},
   "outputs": [],
   "source": [
    "import os\n",
    "import warnings\n",
    "import graphviz\n",
    "import numpy as np\n",
    "import pandas as pd\n",
    "import seaborn as sns\n",
    "from sklearn import tree\n",
    "from sklearn.svm import SVC\n",
    "import plotly.express as px\n",
    "from pandas import DataFrame\n",
    "import plotly.graph_objs as go\n",
    "import matplotlib.pyplot as plt\n",
    "from collections import OrderedDict\n",
    "from matplotlib import colors as mcolors\n",
    "#from predictPy import Analisis_Predictivo\n",
    "from sklearn.metrics import accuracy_score\n",
    "from sklearn.tree import export_graphviz\n",
    "from sklearn.metrics import confusion_matrix\n",
    "from sklearn.tree import DecisionTreeClassifier\n",
    "from sklearn.ensemble import AdaBoostClassifier\n",
    "from sklearn.preprocessing import StandardScaler\n",
    "from sklearn.ensemble import RandomForestClassifier\n",
    "from sklearn.neighbors import KNeighborsClassifier\n",
    "from sklearn.model_selection import train_test_split\n",
    "from sklearn.ensemble import GradientBoostingClassifier\n",
    "\n",
    "pd.options.display.max_rows = 10\n",
    "warnings.filterwarnings(\"ignore\")"
   ]
  },
  {
   "cell_type": "code",
   "execution_count": 9,
   "id": "7e8862bd",
   "metadata": {},
   "outputs": [],
   "source": [
    "def indices_general(MC, nombres = None):\n",
    "    precision_global = np.sum(MC.diagonal()) / np.sum(MC)\n",
    "    error_global     = 1 - precision_global\n",
    "    precision_categoria  = pd.DataFrame(MC.diagonal()/np.sum(MC,axis = 1)).T\n",
    "    if nombres!=None:\n",
    "        precision_categoria.columns = nombres\n",
    "    return {\"Matriz de Confusión\":MC, \n",
    "            \"Precisión Global\":   precision_global, \n",
    "            \"Error Global\":       error_global, \n",
    "            \"Precisión por categoría\":precision_categoria}"
   ]
  },
  {
   "cell_type": "code",
   "execution_count": 10,
   "id": "fbc5362d",
   "metadata": {},
   "outputs": [],
   "source": [
    "import matplotlib.ticker as mticker\n",
    "\n",
    "def distribucion_variable_predecir(data:pd.DataFrame,variable_predict:str, ax = None):\n",
    "    if ax == None:\n",
    "        fig, ax = plt.subplots(1,1, figsize = (15,10), dpi = 200)\n",
    "    colors = list(dict(**mcolors.CSS4_COLORS))\n",
    "    df = pd.crosstab(index = data[variable_predict],columns = \"valor\") / data[variable_predict].count()\n",
    "    countv = 0\n",
    "    titulo = \"Distribución de la variable %s\" % variable_predict\n",
    "    \n",
    "    for i in range(df.shape[0]):\n",
    "        ax.barh(1, df.iloc[i], left = countv, align = 'center', color = colors[11 + i], label = df.iloc[i].name)\n",
    "        countv = countv + df.iloc[i]\n",
    "        \n",
    "    ax.set_xlim(0,1)\n",
    "    ax.set_yticklabels(\"\")\n",
    "    ax.set_ylabel(variable_predict)\n",
    "    ax.set_title(titulo)\n",
    "    ticks_loc = ax.get_xticks().tolist()\n",
    "    ax.xaxis.set_major_locator(mticker.FixedLocator(ticks_loc))\n",
    "    ax.set_xticklabels(['{:.0%}'.format(x) for x in ticks_loc])\n",
    "    \n",
    "    countv = 0\n",
    "    for v in df.iloc[:,0]:\n",
    "        ax.text(np.mean([countv, countv + v]) - 0.03, 1 , '{:.1%}'.format(v), color = 'black', fontweight = 'bold')\n",
    "        countv = countv + v\n",
    "    ax.legend(loc = 'upper center', bbox_to_anchor = (1.08, 1), shadow = True, ncol = 1)"
   ]
  },
  {
   "cell_type": "code",
   "execution_count": 11,
   "id": "8218b2c6",
   "metadata": {},
   "outputs": [],
   "source": [
    "def poder_predictivo_categorica(data: pd.DataFrame, var: str, variable_predict: str, ax=None):\n",
    "    if ax == None:\n",
    "        fig, ax = plt.subplots(1, 1, figsize = (15, 10), dpi = 200)\n",
    "    df = pd.crosstab(index = data[var], columns = data[variable_predict])\n",
    "    df = df.div(df.sum(axis = 1), axis = 0)\n",
    "    titulo = \"Distribución de la variable %s según la variable %s\" % (var, variable_predict)\n",
    "    df.plot(kind = 'barh', stacked = True,   legend = True, ax = ax,\n",
    "            xlim = (0, 1), title   = titulo, width = 0.8)\n",
    "            \n",
    "    ticks_loc = ax.get_xticks().tolist()\n",
    "    ax.xaxis.set_major_locator(mticker.FixedLocator(ticks_loc))\n",
    "    ax.set_xticklabels(['{:.0%}'.format(x) for x in ticks_loc])\n",
    "    ax.legend(loc = 'upper center', bbox_to_anchor = (1.08, 1), \n",
    "              shadow = True, ncol = 1)\n",
    "              \n",
    "    for bars in ax.containers:\n",
    "        plt.setp(bars, width = .9)\n",
    "    for i in range(df.shape[0]):\n",
    "        countv = 0\n",
    "        for v in df.iloc[i]:\n",
    "            ax.text(np.mean([countv, countv+v]) - 0.03, i,\n",
    "                    '{:.1%}'.format(v), color = 'black', fontweight = 'bold')\n",
    "            countv = countv + v"
   ]
  },
  {
   "cell_type": "code",
   "execution_count": 12,
   "id": "eb7f0b41",
   "metadata": {},
   "outputs": [],
   "source": [
    "def poder_predictivo_numerica(data:pd.DataFrame, var:str, variable_predict:str):\n",
    "    sns.FacetGrid(data, hue = variable_predict, height = 8, aspect = 1.8).map(sns.kdeplot, var, shade = True).add_legend()"
   ]
  },
  {
   "cell_type": "code",
   "execution_count": 13,
   "id": "92c18166",
   "metadata": {},
   "outputs": [],
   "source": [
    "import pandas as pd\n",
    "import numpy as np\n",
    "import matplotlib.pyplot as plt\n",
    "from matplotlib import colors as mcolors\n",
    "import matplotlib.ticker as mticker\n",
    "from sklearn.preprocessing import StandardScaler\n",
    "from sklearn.model_selection import train_test_split\n",
    "from sklearn.metrics import confusion_matrix\n",
    "import seaborn as sns\n",
    "\n",
    "\n",
    "class Analisis_Predictivo:\n",
    "\n",
    "    def __init__(self, datos: pd.DataFrame, predecir: str, predictoras=[],\n",
    "                 modelo=None, estandarizar = True,train_size=0.75, random_state=None):\n",
    "        '''\n",
    "        datos: Datos completos y listos para construir un modelo   \n",
    "\n",
    "        predecir: Nombre de la variable a predecir\n",
    "\n",
    "        predictoras: Lista de los nombres de las variables predictoras.\n",
    "        Si vacío entonces utiliza todas las variables presentes excepto la variable a predecir.\n",
    "\n",
    "        modelo: Instancia de una Clase de un método de clasificación(KNN,Árboles,SVM,etc).\n",
    "        Si no especifica un modelo no podrá utilizar el método fit\n",
    "\n",
    "        estandarizar: Indica si se debe o no estandarizar los datos que utilizará el estimador.\n",
    "\n",
    "        train_size: Si el valor es tipo flotante entre 0.0 y 1.0 entonces representa la proporción de la tabla de entrenamiento.\n",
    "        Si el valor es un entero entonces representa el valor absoluto de la tabla de entrenamiento.\n",
    "\n",
    "        random_state: Semilla aleatoria para la división de datos(training-testing).\n",
    "        '''\n",
    "        self.datos = datos\n",
    "        self.predecir = predecir\n",
    "        self.predictoras = predictoras\n",
    "        self.nombre_clases = list(np.unique(self.datos[predecir].values))\n",
    "        self.modelo = modelo\n",
    "        self.random_state = random_state\n",
    "        if modelo != None:\n",
    "            self.train_size = train_size\n",
    "            self._training_testing(estandarizar)\n",
    "\n",
    "    def _training_testing(self, estandarizar = True):\n",
    "        if len(self.predictoras) == 0:\n",
    "            X = self.datos.drop(columns=[self.predecir])\n",
    "            self.predictoras = list(X.columns.values)\n",
    "        else:\n",
    "            X = self.datos[self.predictoras]\n",
    "\n",
    "        if estandarizar:\n",
    "            X = pd.DataFrame(StandardScaler().fit_transform(X), columns= X.columns)\n",
    "\n",
    "        y = self.datos[self.predecir].values\n",
    "\n",
    "        train_test = train_test_split(X, y, train_size=self.train_size,\n",
    "                                      random_state=self.random_state)\n",
    "        self.X_train, self.X_test, self.y_train, self.y_test = train_test\n",
    "\n",
    "    def fit_predict(self):\n",
    "        if(self.modelo != None):\n",
    "            self.modelo.fit(self.X_train, self.y_train)\n",
    "            return self.modelo.predict(self.X_test)\n",
    "\n",
    "    def fit_predict_resultados(self, imprimir=True):\n",
    "        if(self.modelo != None):\n",
    "            prediccion = self.fit_predict()\n",
    "            MC = confusion_matrix(self.y_test, prediccion, labels= self.nombre_clases)\n",
    "            indices = self.indices_general(MC, self.nombre_clases)\n",
    "            if imprimir == True:\n",
    "                for k in indices:\n",
    "                    print(\"\\n%s:\\n%s\" % (k, str(indices[k])))\n",
    "\n",
    "            return indices\n",
    "\n",
    "    def indices_general(self, MC, nombres=None):\n",
    "        \"Método para calcular los índices de calidad de la predicción\"\n",
    "        precision_global = np.sum(MC.diagonal()) / np.sum(MC)\n",
    "        error_global = 1 - precision_global\n",
    "        precision_categoria = pd.DataFrame(MC.diagonal()/np.sum(MC, axis=1)).T\n",
    "        if nombres != None:\n",
    "            precision_categoria.columns = nombres\n",
    "        return {\"Matriz de Confusión\": MC,\n",
    "                \"Precisión Global\": precision_global,\n",
    "                \"Error Global\": error_global,\n",
    "                \"Precisión por categoría\": precision_categoria}\n",
    "\n",
    "    def distribucion_variable_predecir(self, ax=None):\n",
    "        \"Método para graficar la distribución de la variable a predecir\"\n",
    "        variable_predict = self.predecir\n",
    "        data = self.datos\n",
    "        if ax == None:\n",
    "            fig, ax = plt.subplots(1, 1, figsize=(12, 6), dpi=200)\n",
    "        colors = list(dict(**mcolors.CSS4_COLORS))\n",
    "        df = pd.crosstab(index=data[variable_predict],\n",
    "                         columns=\"valor\") / data[variable_predict].count()\n",
    "        countv = 0\n",
    "        titulo = \"Distribución de la variable %s\" % variable_predict\n",
    "        for i in range(df.shape[0]):\n",
    "            ax.barh(1, df.iloc[i], left=countv, align='center',\n",
    "                    color=colors[11+i], label=df.iloc[i].name)\n",
    "            countv = countv + df.iloc[i]\n",
    "        ax.set_xlim(0, 1)\n",
    "        ax.set_yticklabels(\"\")\n",
    "        ax.set_ylabel(variable_predict)\n",
    "        ax.set_title(titulo)\n",
    "        ticks_loc = ax.get_xticks().tolist()\n",
    "        ax.xaxis.set_major_locator(mticker.FixedLocator(ticks_loc))\n",
    "        ax.set_xticklabels(['{:.0%}'.format(x) for x in ticks_loc])\n",
    "        countv = 0\n",
    "        for v in df.iloc[:, 0]:\n",
    "            ax.text(np.mean([countv, countv+v]) - 0.03, 1,\n",
    "                    '{:.1%}'.format(v), color='black', fontweight='bold')\n",
    "            countv = countv + v\n",
    "        ax.legend(loc='upper center', bbox_to_anchor=(\n",
    "            1.08, 1), shadow=True, ncol=1)\n",
    "\n",
    "    def poder_predictivo_categorica(self, var: str, ax=None):\n",
    "        \"Método para ver la distribución de una variable categórica respecto a la predecir\"\n",
    "        data = self.datos\n",
    "        variable_predict = self.predecir\n",
    "        if ax == None:\n",
    "            fig, ax = plt.subplots(1, 1, figsize=(12, 6), dpi=200)\n",
    "        df = pd.crosstab(index=data[var], columns=data[variable_predict])\n",
    "        df = df.div(df.sum(axis=1), axis=0)\n",
    "        titulo = \"Distribución de la variable %s según la variable %s\" % (\n",
    "            var, variable_predict)\n",
    "        df.plot(kind='barh', stacked=True, legend=True,\n",
    "                ax=ax, xlim=(0, 1), title=titulo, width=0.8)\n",
    "        ticks_loc = ax.get_xticks().tolist()\n",
    "        ax.xaxis.set_major_locator(mticker.FixedLocator(ticks_loc))\n",
    "        ax.set_xticklabels(['{:.0%}'.format(x) for x in ticks_loc])\n",
    "        ax.legend(loc='upper center', bbox_to_anchor=(\n",
    "            1.08, 1), shadow=True, ncol=1)\n",
    "        for bars in ax.containers:\n",
    "            plt.setp(bars, width=.9)\n",
    "        for i in range(df.shape[0]):\n",
    "            countv = 0\n",
    "            for v in df.iloc[i]:\n",
    "                ax.text(np.mean([countv, countv+v]) - 0.03, i, '{:.1%}'.format(v),\n",
    "                        color='black', fontweight='bold')\n",
    "                countv = countv + v\n",
    "\n",
    "    def poder_predictivo_numerica(self, var: str):\n",
    "        \"Función para ver la distribución de una variable numérica respecto a la predecir\"\n",
    "        sns.FacetGrid(self.datos, hue=self.predecir, height=8, aspect=1.8).map(\n",
    "            sns.kdeplot, var, shade=True).add_legend()"
   ]
  },
  {
   "cell_type": "markdown",
   "id": "0722be54",
   "metadata": {},
   "source": [
    "****"
   ]
  },
  {
   "cell_type": "code",
   "execution_count": 14,
   "id": "cc49876e",
   "metadata": {},
   "outputs": [],
   "source": [
    "def strip_formatting(text):\n",
    "    if isinstance(text, str):\n",
    "        return re.sub(r'\\r\\n|\\r|\\n', ' ', text)\n",
    "    else:\n",
    "        return str(text)\n",
    "\n",
    "def normalize_whitespace(text):\n",
    "    return re.sub(r'\\s+', ' ', text)\n",
    "\n",
    "def remove_html_entities(text):\n",
    "    return re.sub(r'&[^;]*;', '', text)\n",
    "\n",
    "def remove_hashtags(text):\n",
    "    return re.sub(r'#\\w+', '', text)\n",
    "\n",
    "def remove_punctuation_and_commas(text):\n",
    "    return re.sub(r'[^\\w\\s]', '', text)\n",
    "\n",
    "def remove_emojis(text):\n",
    "    \"\"\"\n",
    "    Removes all emojis from the input text.\n",
    "    \n",
    "    Args:\n",
    "    text (str): Text to remove emojis from\n",
    "    \n",
    "    Returns:\n",
    "    str: Text with all emojis removed\n",
    "    \"\"\"\n",
    "    return text.encode('ascii', 'ignore').decode('ascii')\n",
    "\n",
    "def remove_mentions(text):\n",
    "    \"\"\"Remove mentions from text.\"\"\"\n",
    "    return re.sub(r'@\\w+', '', text)\n",
    "\n",
    "def remove_urls(text):\n",
    "    \"\"\"\n",
    "    Removes all https links from the input text using regex.\n",
    "    \n",
    "    Args:\n",
    "    text (str): Input text\n",
    "    \n",
    "    Returns:\n",
    "    str: Text with all https links removed\n",
    "    \"\"\"\n",
    "    # Define regex pattern to match https links\n",
    "    pattern = re.compile(r'https\\S+')\n",
    "    \n",
    "    # Remove all instances of https links from the text\n",
    "    text = re.sub(pattern, '', text)\n",
    "    \n",
    "    return text\n",
    "\n",
    "\n",
    "def tokenize(text):\n",
    "    return word_tokenize(text)"
   ]
  },
  {
   "cell_type": "code",
   "execution_count": 15,
   "id": "1c9e9e1b",
   "metadata": {},
   "outputs": [],
   "source": [
    "def find_names(text):\n",
    "    # tokenize the text into sentences\n",
    "    sentences = nltk.sent_tokenize(text)\n",
    "    \n",
    "    # loop through each sentence and find all named entities\n",
    "    names = []\n",
    "    for sentence in sentences:\n",
    "        words = nltk.word_tokenize(sentence)\n",
    "        tagged_words = nltk.pos_tag(words)\n",
    "        named_entities = nltk.ne_chunk(tagged_words, binary=True)\n",
    "        for entity in named_entities:\n",
    "            if isinstance(entity, nltk.tree.Tree) and entity.label() == 'NE':\n",
    "                name = ' '.join([word for word, tag in entity.leaves()])\n",
    "                names.append(name.lower())\n",
    "    \n",
    "    # count the number of occurrences of each name\n",
    "    counts = Counter(names)\n",
    "    \n",
    "    # return a list of unique names and their counts\n",
    "    return [(name, count) for name, count in counts.items()]\n"
   ]
  },
  {
   "cell_type": "code",
   "execution_count": 16,
   "id": "2663a4e2",
   "metadata": {},
   "outputs": [],
   "source": [
    "def find_names1(text):\n",
    "    # Tokenize the text into sentences\n",
    "    sentences = nltk.sent_tokenize(text)\n",
    "\n",
    "    # Extract all the named entities from the sentences\n",
    "    named_entities = []\n",
    "    for sentence in sentences:\n",
    "        tokens = nltk.word_tokenize(sentence)\n",
    "        tagged = nltk.pos_tag(tokens)\n",
    "        named_entities.extend(nltk.ne_chunk(tagged, binary=False).subtrees(lambda t: t.label() == 'PERSON'))\n",
    "\n",
    "    # Extract the names from the named entities using regex\n",
    "    names = []\n",
    "    for tree in named_entities:\n",
    "        if hasattr(tree, 'label') and tree.label() == 'PERSON':\n",
    "            name = ' '.join([child[0] for child in tree])\n",
    "            name = re.sub('[^a-zA-Z \\n\\.]', '', name)\n",
    "            names.append(name.strip())\n",
    "\n",
    "    return names"
   ]
  },
  {
   "cell_type": "code",
   "execution_count": 17,
   "id": "3dc0611e",
   "metadata": {},
   "outputs": [],
   "source": [
    "def plot_reviews(df):\n",
    "    fig, ax = plt.subplots(1, figsize=(12, 4))\n",
    "\n",
    "    # Plot histogram of review_text column\n",
    "    ax.hist(df['review_text'].apply(len), bins=50)\n",
    "    ax.set_xlabel('Length of review_text')\n",
    "    ax.set_ylabel('Count')\n",
    "    ax.set_title('Distribution of review_text length')\n",
    "\n",
    "    plt.show()\n"
   ]
  },
  {
   "cell_type": "code",
   "execution_count": 18,
   "id": "5f2a2722",
   "metadata": {},
   "outputs": [],
   "source": [
    "def plot_review_variables(df, color='red'):\n",
    "    fig, axs = plt.subplots(3, 3, figsize=(15, 12))\n",
    "    fig.subplots_adjust(hspace=0.4, wspace=0.4)\n",
    "\n",
    "    # Length of each review\n",
    "    axs[0, 0].hist(df['LengthReview'], bins=50, color=color)\n",
    "    axs[0, 0].set_xlabel('Length of review_text')\n",
    "    axs[0, 0].set_ylabel('Count')\n",
    "    axs[0, 0].set_title('Distribution of review_text length')\n",
    "\n",
    "    # Number of punctuations\n",
    "    axs[0, 1].hist(df['NumPunctuations'], bins=20, color=color)\n",
    "    axs[0, 1].set_xlabel('Number of punctuations')\n",
    "    axs[0, 1].set_ylabel('Count')\n",
    "    axs[0, 1].set_title('Distribution of punctuations')\n",
    "\n",
    "    # Number of hashtags\n",
    "    axs[0, 2].hist(df['NumHashtags'], bins=10, color=color)\n",
    "    axs[0, 2].set_xlabel('Number of hashtags')\n",
    "    axs[0, 2].set_ylabel('Count')\n",
    "    axs[0, 2].set_title('Distribution of hashtags')\n",
    "\n",
    "    # Number of sentences\n",
    "    axs[1, 0].hist(df['NumSentences'], bins=10, color=color)\n",
    "    axs[1, 0].set_xlabel('Number of sentences')\n",
    "    axs[1, 0].set_ylabel('Count')\n",
    "    axs[1, 0].set_title('Distribution of sentences')\n",
    "\n",
    "    # Number of words\n",
    "    axs[1, 1].hist(df['NumWords'], bins=30, color=color)\n",
    "    axs[1, 1].set_xlabel('Number of words')\n",
    "    axs[1, 1].set_ylabel('Count')\n",
    "    axs[1, 1].set_title('Distribution of words')\n",
    "\n",
    "    # AllAlphabets\n",
    "    axs[1, 2].hist(df['AllAlphabets'], bins=2, color=color)\n",
    "    axs[1, 2].set_xlabel('AllAlphabets')\n",
    "    axs[1, 2].set_ylabel('Count')\n",
    "    axs[1, 2].set_title('Distribution of AllAlphabets')\n",
    "\n",
    "    # AllDigits\n",
    "    axs[2, 0].hist(df['AllDigits'], bins=2, color=color)\n",
    "    axs[2, 0].set_xlabel('AllDigits')\n",
    "    axs[2, 0].set_ylabel('Count')\n",
    "    axs[2, 0].set_title('Distribution of AllDigits')\n",
    "\n",
    "    # AllAlNum\n",
    "    axs[2, 1].hist(df['AllAlNum'], bins=2, color=color)\n",
    "    axs[2, 1].set_xlabel('AllAlNum')\n",
    "    axs[2, 1].set_ylabel('Count')\n",
    "    axs[2, 1].set_title('Distribution of AllAlNum')\n",
    "\n",
    "    # Number of At signs\n",
    "    axs[2, 2].hist(df['NumAtSigns'], bins=10, color=color)\n",
    "    axs[2, 2].set_xlabel('Number of @ signs')\n",
    "    axs[2, 2].set_ylabel('Count')\n",
    "    axs[2, 2].set_title('Distribution of @ signs')\n",
    "\n",
    "    plt.show()"
   ]
  },
  {
   "cell_type": "code",
   "execution_count": 19,
   "id": "6aab192e",
   "metadata": {},
   "outputs": [],
   "source": [
    "# Crea dos listas vacías para almacenar las reviews y los nombres de archivo\n",
    "reviews = []\n",
    "file_names = []\n",
    "\n",
    "# Itera a través de los archivos que contienen las reviews y lee el contenido de cada archivo.\n",
    "for file in glob.glob(\"C:/Users/Ana/Documents/Tec/Semestre 6/IA/Day/aclImdb_v1/aclImdb/train/pos/*.txt\"):\n",
    "    with open(file, \"r\", encoding='utf-8') as f:\n",
    "        review = f.read()\n",
    "        reviews.append(review)\n",
    "        file_name = os.path.basename(file)\n",
    "        file_names.append(file_name)\n",
    "\n",
    "# Crea un DataFrame a partir de las listas, con columnas para las reviews y los nombres de archivo.\n",
    "df = pd.DataFrame({\"file_name\": file_names, \"review_text\": reviews})"
   ]
  },
  {
   "cell_type": "code",
   "execution_count": 20,
   "id": "deb41bd8",
   "metadata": {},
   "outputs": [],
   "source": [
    "#Duplicating review_text to perform data preprocessing\n",
    "df = df.assign(review_text_clean=df['review_text'])"
   ]
  },
  {
   "cell_type": "markdown",
   "id": "29b0a651",
   "metadata": {},
   "source": [
    "### Visualization"
   ]
  },
  {
   "cell_type": "code",
   "execution_count": 21,
   "id": "0f6c9d9e",
   "metadata": {},
   "outputs": [
    {
     "data": {
      "image/png": "[encoded data removed]",
      "text/plain": [
       "<Figure size 864x288 with 1 Axes>"
      ]
     },
     "metadata": {
      "needs_background": "light"
     },
     "output_type": "display_data"
    }
   ],
   "source": [
    "plot_reviews(df)"
   ]
  },
  {
   "cell_type": "markdown",
   "id": "9ff18e53",
   "metadata": {},
   "source": [
    "### Features"
   ]
  },
  {
   "cell_type": "code",
   "execution_count": 22,
   "id": "a5591175",
   "metadata": {},
   "outputs": [],
   "source": [
    "#Length of each review\n",
    "df['LengthReview'] = df['review_text'].map(lambda x:len(x))\n",
    "punctuationList = string.punctuation\n",
    "#number of punctuations \n",
    "df['NumPunctuations'] = df['review_text'].map(lambda x:len([char for char in x if char in punctuationList]))\n",
    "#number of hashtags\n",
    "df['NumHashtags'] = df['review_text'].map(lambda x:len(re.findall(\"\\#.?\\s|\\#.?$\", x)))\n",
    "#number of sentences\n",
    "df['NumSentences'] = df['review_text'].map(lambda x:len(x.split('.')))\n",
    "#number of words\n",
    "df['NumWords'] = df['review_text'].map(lambda x:len(x.split(' ')))\n",
    "#isalpha - does a review contain just alphabetical characters\n",
    "df['AllAlphabets'] = df['review_text'].map(lambda x:x.isalpha())\n",
    "#isdigit - does a review contain just digits\n",
    "df['AllDigits'] = df['review_text'].map(lambda x:x.isdigit())\n",
    "#isalnum - does a review contain just alphanumeric characters\n",
    "df['AllAlNum'] = df['review_text'].map(lambda x:x.isalnum())\n",
    "#number of at sign - call out how many names in his/her review\n",
    "df['NumAtSigns'] = df['review_text'].map(lambda x:len(re.findall(\"\\@.?\\s|\\@.?$\", x)))\n",
    "#Find names and count them\n",
    "#df['names'] = df['review_text'].apply(find_names)\n",
    "\n",
    "# Finding the count of common words\n",
    "df['love_count'] = df['review_text'].apply(lambda x: sum([1 for word in x.lower().split() if word == 'love']))\n",
    "df['life_count'] = df['review_text'].apply(lambda x: sum([1 for word in x.lower().split() if word == 'life']))\n",
    "df['characters_count'] = df['review_text'].apply(lambda x: sum([1 for word in x.lower().split() if word == 'characters']))\n",
    "df['world_count'] = df['review_text'].apply(lambda x: sum([1 for word in x.lower().split() if word == 'world']))\n",
    "df['young_count'] = df['review_text'].apply(lambda x: sum([1 for word in x.lower().split() if word == 'young']))\n",
    "df['plot_count'] = df['review_text'].apply(lambda x: sum([1 for word in x.lower().split() if word == 'plot']))\n",
    "df['real_count'] = df['review_text'].apply(lambda x: sum([1 for word in x.lower().split() if word == 'real']))\n",
    "df['acting_count'] = df['review_text'].apply(lambda x: sum([1 for word in x.lower().split() if word == 'acting']))"
   ]
  },
  {
   "cell_type": "code",
   "execution_count": 23,
   "id": "1e1f8a42",
   "metadata": {},
   "outputs": [
    {
     "data": {
      "text/html": [
       "<div>\n",
       "<style scoped>\n",
       "    .dataframe tbody tr th:only-of-type {\n",
       "        vertical-align: middle;\n",
       "    }\n",
       "\n",
       "    .dataframe tbody tr th {\n",
       "        vertical-align: top;\n",
       "    }\n",
       "\n",
       "    .dataframe thead th {\n",
       "        text-align: right;\n",
       "    }\n",
       "</style>\n",
       "<table border=\"1\" class=\"dataframe\">\n",
       "  <thead>\n",
       "    <tr style=\"text-align: right;\">\n",
       "      <th></th>\n",
       "      <th>file_name</th>\n",
       "      <th>review_text</th>\n",
       "      <th>review_text_clean</th>\n",
       "      <th>LengthReview</th>\n",
       "      <th>NumPunctuations</th>\n",
       "      <th>NumHashtags</th>\n",
       "      <th>NumSentences</th>\n",
       "      <th>NumWords</th>\n",
       "      <th>AllAlphabets</th>\n",
       "      <th>AllDigits</th>\n",
       "      <th>AllAlNum</th>\n",
       "      <th>NumAtSigns</th>\n",
       "      <th>love_count</th>\n",
       "      <th>life_count</th>\n",
       "      <th>characters_count</th>\n",
       "      <th>world_count</th>\n",
       "      <th>young_count</th>\n",
       "      <th>plot_count</th>\n",
       "      <th>real_count</th>\n",
       "      <th>acting_count</th>\n",
       "    </tr>\n",
       "  </thead>\n",
       "  <tbody>\n",
       "  </tbody>\n",
       "</table>\n",
       "</div>"
      ],
      "text/plain": [
       "Empty DataFrame\n",
       "Columns: [file_name, review_text, review_text_clean, LengthReview, NumPunctuations, NumHashtags, NumSentences, NumWords, AllAlphabets, AllDigits, AllAlNum, NumAtSigns, love_count, life_count, characters_count, world_count, young_count, plot_count, real_count, acting_count]\n",
       "Index: []"
      ]
     },
     "execution_count": 23,
     "metadata": {},
     "output_type": "execute_result"
    }
   ],
   "source": [
    "df"
   ]
  },
  {
   "cell_type": "markdown",
   "id": "ff9e264d",
   "metadata": {},
   "source": [
    "### Visualization Clean"
   ]
  },
  {
   "cell_type": "code",
   "execution_count": 24,
   "id": "10d4c7bd",
   "metadata": {},
   "outputs": [
    {
     "data": {
      "image/png": "[encoded data removed]",
      "text/plain": [
       "<Figure size 1080x864 with 9 Axes>"
      ]
     },
     "metadata": {
      "needs_background": "light"
     },
     "output_type": "display_data"
    }
   ],
   "source": [
    "plot_review_variables(df,color ='orange')"
   ]
  },
  {
   "cell_type": "markdown",
   "id": "27c13405",
   "metadata": {},
   "source": [
    "### Cleaning"
   ]
  },
  {
   "cell_type": "code",
   "execution_count": 25,
   "id": "3a5459be",
   "metadata": {},
   "outputs": [],
   "source": [
    "# List of functions to apply\n",
    "functions = [strip_formatting, normalize_whitespace, remove_html_entities, remove_hashtags, \n",
    "             remove_urls, remove_emojis, remove_mentions, remove_punctuation_and_commas]\n",
    "\n",
    "# Columns to apply the functions to\n",
    "columns = ['review_text_clean']\n",
    "\n",
    "# Loop over the columns and apply the functions\n",
    "for col in columns:\n",
    "    for func in functions:\n",
    "        df[col] = df[col].apply(func)"
   ]
  },
  {
   "cell_type": "markdown",
   "id": "19978257",
   "metadata": {},
   "source": [
    "### Tokenize"
   ]
  },
  {
   "cell_type": "code",
   "execution_count": 26,
   "id": "0c8de97c",
   "metadata": {},
   "outputs": [
    {
     "ename": "AttributeError",
     "evalue": "Can only use .str accessor with string values!",
     "output_type": "error",
     "traceback": [
      "\u001b[1;31m---------------------------------------------------------------------------\u001b[0m",
      "\u001b[1;31mAttributeError\u001b[0m                            Traceback (most recent call last)",
      "Input \u001b[1;32mIn [26]\u001b[0m, in \u001b[0;36m<cell line: 1>\u001b[1;34m()\u001b[0m\n\u001b[1;32m----> 1\u001b[0m df[\u001b[38;5;124m'\u001b[39m\u001b[38;5;124mreview_text_clean\u001b[39m\u001b[38;5;124m'\u001b[39m] \u001b[38;5;241m=\u001b[39m \u001b[43mdf\u001b[49m\u001b[43m[\u001b[49m\u001b[38;5;124;43m'\u001b[39;49m\u001b[38;5;124;43mreview_text_clean\u001b[39;49m\u001b[38;5;124;43m'\u001b[39;49m\u001b[43m]\u001b[49m\u001b[38;5;241;43m.\u001b[39;49m\u001b[43mstr\u001b[49m\u001b[38;5;241m.\u001b[39mlower()\n",
      "File \u001b[1;32m~\\anaconda3\\lib\\site-packages\\pandas\\core\\generic.py:5575\u001b[0m, in \u001b[0;36mNDFrame.__getattr__\u001b[1;34m(self, name)\u001b[0m\n\u001b[0;32m   5568\u001b[0m \u001b[38;5;28;01mif\u001b[39;00m (\n\u001b[0;32m   5569\u001b[0m     name \u001b[38;5;129;01mnot\u001b[39;00m \u001b[38;5;129;01min\u001b[39;00m \u001b[38;5;28mself\u001b[39m\u001b[38;5;241m.\u001b[39m_internal_names_set\n\u001b[0;32m   5570\u001b[0m     \u001b[38;5;129;01mand\u001b[39;00m name \u001b[38;5;129;01mnot\u001b[39;00m \u001b[38;5;129;01min\u001b[39;00m \u001b[38;5;28mself\u001b[39m\u001b[38;5;241m.\u001b[39m_metadata\n\u001b[0;32m   5571\u001b[0m     \u001b[38;5;129;01mand\u001b[39;00m name \u001b[38;5;129;01mnot\u001b[39;00m \u001b[38;5;129;01min\u001b[39;00m \u001b[38;5;28mself\u001b[39m\u001b[38;5;241m.\u001b[39m_accessors\n\u001b[0;32m   5572\u001b[0m     \u001b[38;5;129;01mand\u001b[39;00m \u001b[38;5;28mself\u001b[39m\u001b[38;5;241m.\u001b[39m_info_axis\u001b[38;5;241m.\u001b[39m_can_hold_identifiers_and_holds_name(name)\n\u001b[0;32m   5573\u001b[0m ):\n\u001b[0;32m   5574\u001b[0m     \u001b[38;5;28;01mreturn\u001b[39;00m \u001b[38;5;28mself\u001b[39m[name]\n\u001b[1;32m-> 5575\u001b[0m \u001b[38;5;28;01mreturn\u001b[39;00m \u001b[38;5;28;43mobject\u001b[39;49m\u001b[38;5;241;43m.\u001b[39;49m\u001b[38;5;21;43m__getattribute__\u001b[39;49m\u001b[43m(\u001b[49m\u001b[38;5;28;43mself\u001b[39;49m\u001b[43m,\u001b[49m\u001b[43m \u001b[49m\u001b[43mname\u001b[49m\u001b[43m)\u001b[49m\n",
      "File \u001b[1;32m~\\anaconda3\\lib\\site-packages\\pandas\\core\\accessor.py:182\u001b[0m, in \u001b[0;36mCachedAccessor.__get__\u001b[1;34m(self, obj, cls)\u001b[0m\n\u001b[0;32m    179\u001b[0m \u001b[38;5;28;01mif\u001b[39;00m obj \u001b[38;5;129;01mis\u001b[39;00m \u001b[38;5;28;01mNone\u001b[39;00m:\n\u001b[0;32m    180\u001b[0m     \u001b[38;5;66;03m# we're accessing the attribute of the class, i.e., Dataset.geo\u001b[39;00m\n\u001b[0;32m    181\u001b[0m     \u001b[38;5;28;01mreturn\u001b[39;00m \u001b[38;5;28mself\u001b[39m\u001b[38;5;241m.\u001b[39m_accessor\n\u001b[1;32m--> 182\u001b[0m accessor_obj \u001b[38;5;241m=\u001b[39m \u001b[38;5;28;43mself\u001b[39;49m\u001b[38;5;241;43m.\u001b[39;49m\u001b[43m_accessor\u001b[49m\u001b[43m(\u001b[49m\u001b[43mobj\u001b[49m\u001b[43m)\u001b[49m\n\u001b[0;32m    183\u001b[0m \u001b[38;5;66;03m# Replace the property with the accessor object. Inspired by:\u001b[39;00m\n\u001b[0;32m    184\u001b[0m \u001b[38;5;66;03m# https://www.pydanny.com/cached-property.html\u001b[39;00m\n\u001b[0;32m    185\u001b[0m \u001b[38;5;66;03m# We need to use object.__setattr__ because we overwrite __setattr__ on\u001b[39;00m\n\u001b[0;32m    186\u001b[0m \u001b[38;5;66;03m# NDFrame\u001b[39;00m\n\u001b[0;32m    187\u001b[0m \u001b[38;5;28mobject\u001b[39m\u001b[38;5;241m.\u001b[39m\u001b[38;5;21m__setattr__\u001b[39m(obj, \u001b[38;5;28mself\u001b[39m\u001b[38;5;241m.\u001b[39m_name, accessor_obj)\n",
      "File \u001b[1;32m~\\anaconda3\\lib\\site-packages\\pandas\\core\\strings\\accessor.py:177\u001b[0m, in \u001b[0;36mStringMethods.__init__\u001b[1;34m(self, data)\u001b[0m\n\u001b[0;32m    174\u001b[0m \u001b[38;5;28;01mdef\u001b[39;00m \u001b[38;5;21m__init__\u001b[39m(\u001b[38;5;28mself\u001b[39m, data):\n\u001b[0;32m    175\u001b[0m     \u001b[38;5;28;01mfrom\u001b[39;00m \u001b[38;5;21;01mpandas\u001b[39;00m\u001b[38;5;21;01m.\u001b[39;00m\u001b[38;5;21;01mcore\u001b[39;00m\u001b[38;5;21;01m.\u001b[39;00m\u001b[38;5;21;01marrays\u001b[39;00m\u001b[38;5;21;01m.\u001b[39;00m\u001b[38;5;21;01mstring_\u001b[39;00m \u001b[38;5;28;01mimport\u001b[39;00m StringDtype\n\u001b[1;32m--> 177\u001b[0m     \u001b[38;5;28mself\u001b[39m\u001b[38;5;241m.\u001b[39m_inferred_dtype \u001b[38;5;241m=\u001b[39m \u001b[38;5;28;43mself\u001b[39;49m\u001b[38;5;241;43m.\u001b[39;49m\u001b[43m_validate\u001b[49m\u001b[43m(\u001b[49m\u001b[43mdata\u001b[49m\u001b[43m)\u001b[49m\n\u001b[0;32m    178\u001b[0m     \u001b[38;5;28mself\u001b[39m\u001b[38;5;241m.\u001b[39m_is_categorical \u001b[38;5;241m=\u001b[39m is_categorical_dtype(data\u001b[38;5;241m.\u001b[39mdtype)\n\u001b[0;32m    179\u001b[0m     \u001b[38;5;28mself\u001b[39m\u001b[38;5;241m.\u001b[39m_is_string \u001b[38;5;241m=\u001b[39m \u001b[38;5;28misinstance\u001b[39m(data\u001b[38;5;241m.\u001b[39mdtype, StringDtype)\n",
      "File \u001b[1;32m~\\anaconda3\\lib\\site-packages\\pandas\\core\\strings\\accessor.py:231\u001b[0m, in \u001b[0;36mStringMethods._validate\u001b[1;34m(data)\u001b[0m\n\u001b[0;32m    228\u001b[0m inferred_dtype \u001b[38;5;241m=\u001b[39m lib\u001b[38;5;241m.\u001b[39minfer_dtype(values, skipna\u001b[38;5;241m=\u001b[39m\u001b[38;5;28;01mTrue\u001b[39;00m)\n\u001b[0;32m    230\u001b[0m \u001b[38;5;28;01mif\u001b[39;00m inferred_dtype \u001b[38;5;129;01mnot\u001b[39;00m \u001b[38;5;129;01min\u001b[39;00m allowed_types:\n\u001b[1;32m--> 231\u001b[0m     \u001b[38;5;28;01mraise\u001b[39;00m \u001b[38;5;167;01mAttributeError\u001b[39;00m(\u001b[38;5;124m\"\u001b[39m\u001b[38;5;124mCan only use .str accessor with string values!\u001b[39m\u001b[38;5;124m\"\u001b[39m)\n\u001b[0;32m    232\u001b[0m \u001b[38;5;28;01mreturn\u001b[39;00m inferred_dtype\n",
      "\u001b[1;31mAttributeError\u001b[0m: Can only use .str accessor with string values!"
     ]
    }
   ],
   "source": [
    "df['review_text_clean'] = df['review_text_clean'].str.lower()"
   ]
  },
  {
   "cell_type": "code",
   "execution_count": null,
   "id": "8c13c5b2",
   "metadata": {},
   "outputs": [],
   "source": [
    "#generate tokens\n",
    "tokens_imdb = df['review_text_clean'].apply(nltk.word_tokenize)\n",
    "# convert all tokens to lower case\n",
    "lower_tokens_imdb = [[t.lower() for t in tokens] for tokens in tokens_imdb]\n",
    "# bag of words\n",
    "bow_simple_imdb = Counter([t for tokens in lower_tokens_imdb for t in tokens])"
   ]
  },
  {
   "cell_type": "markdown",
   "id": "ba01de3c",
   "metadata": {},
   "source": [
    "### Stop Word Removal"
   ]
  },
  {
   "cell_type": "code",
   "execution_count": null,
   "id": "0cfae0e4",
   "metadata": {},
   "outputs": [],
   "source": [
    "stop_words = set(stopwords.words('english'))\n",
    "manual_stop_words = [\"movie\", \"film\"]\n",
    "for word in manual_stop_words:\n",
    "    stop_words.add(word)\n",
    "    \n",
    "# Remove stop words from the list of words\n",
    "filtered_tokens_imdb = [[t for t in tokens if t.lower() not in stop_words] for tokens in lower_tokens_imdb]\n",
    "filtered_tokens_imdb"
   ]
  },
  {
   "cell_type": "code",
   "execution_count": null,
   "id": "1cf187e5",
   "metadata": {},
   "outputs": [],
   "source": [
    "# generate a bag of words from the stemmed tokens\n",
    "bow_filtered_tokens_imdb1 = Counter([t for tokens in filtered_tokens_imdb for t in tokens])"
   ]
  },
  {
   "cell_type": "code",
   "execution_count": null,
   "id": "04b51480",
   "metadata": {},
   "outputs": [],
   "source": [
    "bow_filtered_tokens_imdb1.most_common(1)"
   ]
  },
  {
   "cell_type": "markdown",
   "id": "70b06019",
   "metadata": {},
   "source": [
    "### Stemming/Lemmatization"
   ]
  },
  {
   "cell_type": "code",
   "execution_count": null,
   "id": "3411df03",
   "metadata": {},
   "outputs": [],
   "source": [
    "# create a Snowball stemmer for English\n",
    "stemmer = SnowballStemmer('english')\n",
    "\n",
    "# perform stemming on your tokens\n",
    "stemmed_tokens_imdb = [[stemmer.stem(token) for token in tokens] for tokens in filtered_tokens_imdb]\n",
    "\n",
    "# generate a bag of words from the stemmed tokens\n",
    "bow_stemmed_imdb = Counter([t for tokens in stemmed_tokens_imdb for t in tokens])"
   ]
  },
  {
   "cell_type": "markdown",
   "id": "dec59bf6",
   "metadata": {},
   "source": [
    "### Feature Extraction"
   ]
  },
  {
   "cell_type": "code",
   "execution_count": null,
   "id": "d889b92f",
   "metadata": {},
   "outputs": [],
   "source": [
    "# create a TfidfVectorizer object\n",
    "vectorizer = TfidfVectorizer(max_features=8000)\n",
    "\n",
    "# fit and transform the stemmed tokens\n",
    "tfidf_stemmed_imdb = vectorizer.fit_transform([' '.join(tokens) for tokens in stemmed_tokens_imdb])\n",
    "\n",
    "# calculate the cosine similarity between documents\n",
    "#cos_sim = cosine_similarity(tfidf_stemmed_tweet)"
   ]
  },
  {
   "cell_type": "markdown",
   "id": "58575e89",
   "metadata": {},
   "source": [
    "### Modeling"
   ]
  },
  {
   "cell_type": "code",
   "execution_count": null,
   "id": "9f393180",
   "metadata": {},
   "outputs": [],
   "source": [
    "# create a function to get the polarity score of a text\n",
    "def get_sentiment(text):\n",
    "    blob = TextBlob(text)\n",
    "    return blob.sentiment.polarity\n",
    "\n",
    "# apply the function on the review_text column to get the polarity score for each review\n",
    "df['rating'] = df['review_text'].apply(get_sentiment)\n",
    "\n",
    "# map the polarity score to a rating scale of 1-5 (assuming 1 is the lowest and 5 is the highest rating)\n",
    "df['rating'] = df['rating'].map(lambda x: round((x+1)*2.5))\n",
    "\n",
    "# print the first 5 rows of the dataframe to check the rating column\n",
    "df.head(5)"
   ]
  },
  {
   "cell_type": "code",
   "execution_count": null,
   "id": "9c651c38",
   "metadata": {},
   "outputs": [],
   "source": [
    "# create TfidfVectorizer object with max_features=5000\n",
    "tfidf = TfidfVectorizer(max_features=8000)\n",
    "\n",
    "# fit and transform the corpus (assuming it is stored in a list called 'corpus')\n",
    "vectors = tfidf.fit_transform(df['review_text'])\n",
    "\n",
    "# convert the sparse matrix to a dense matrix and then to a numpy array\n",
    "dense = np.array(vectors.todense())\n",
    "\n",
    "# create a DataFrame with the dense matrix and feature names\n",
    "df2 = pd.DataFrame(dense, columns=tfidf.get_feature_names_out())\n",
    "\n",
    "# print the first 5 rows of the DataFrame\n",
    "print(df2.head())"
   ]
  },
  {
   "cell_type": "code",
   "execution_count": null,
   "id": "03602b26",
   "metadata": {},
   "outputs": [],
   "source": [
    "#save vectorizer for part 2\n",
    "vectorizerName = \"TfidfVectorizer.pk\"\n",
    "pickle.dump(tfidf, open(vectorizerName, 'wb'))"
   ]
  },
  {
   "cell_type": "markdown",
   "id": "2be6043c",
   "metadata": {},
   "source": [
    "***"
   ]
  },
  {
   "cell_type": "markdown",
   "id": "4dda0bef",
   "metadata": {},
   "source": [
    "### Model Features"
   ]
  },
  {
   "cell_type": "code",
   "execution_count": null,
   "id": "84e22bec",
   "metadata": {},
   "outputs": [],
   "source": [
    "#Logistic Regression"
   ]
  },
  {
   "cell_type": "code",
   "execution_count": null,
   "id": "ecd36c94",
   "metadata": {},
   "outputs": [],
   "source": [
    "# Define variables\n",
    "X = df[['LengthReview', 'NumPunctuations', 'NumHashtags', 'NumSentences', 'NumWords', 'AllAlphabets', 'AllDigits', 'AllAlNum', 'NumAtSigns']]\n",
    "y = df['rating'].ravel()\n",
    "\n",
    "#Scale the data\n",
    "scaler = StandardScaler()\n",
    "X_scaled = scaler.fit_transform(df[['LengthReview', 'NumPunctuations', 'NumHashtags', 'NumSentences', 'NumWords', 'AllAlphabets', 'AllDigits', 'AllAlNum', 'NumAtSigns']])\n",
    "\n",
    "# Split the data\n",
    "X_train, X_test, y_train, y_test = train_test_split(X, y, test_size=0.2, random_state=42)\n",
    "\n",
    "# Create a logistic regression model object\n",
    "logreg = LogisticRegression(max_iter=1000)\n",
    "\n",
    "# Fit the model to the training data\n",
    "logreg.fit(X_train, y_train)\n",
    "\n",
    "# Make predictions on the test data\n",
    "y_pred = logreg.predict(X_test)\n",
    "\n",
    "# Evaluate the performance of the model\n",
    "print(\"Accuracy:\", accuracy_score(y_test, y_pred))"
   ]
  },
  {
   "cell_type": "markdown",
   "id": "3bfe5215",
   "metadata": {},
   "source": [
    "### Model TD-IDF"
   ]
  },
  {
   "cell_type": "code",
   "execution_count": null,
   "id": "1f1fc5b1",
   "metadata": {},
   "outputs": [],
   "source": [
    "#Logistic Regression"
   ]
  },
  {
   "cell_type": "code",
   "execution_count": null,
   "id": "3ba1ff8a",
   "metadata": {},
   "outputs": [],
   "source": [
    "# Define variables\n",
    "X = df2.values\n",
    "y = df['rating'].ravel()\n",
    "\n",
    "#Split the data\n",
    "X_train, X_test, y_train, y_test = train_test_split(tfidf_stemmed_imdb, df['rating'], test_size=0.2, random_state=42)\n",
    "\n",
    "# create a logistic regression model object\n",
    "logreg = LogisticRegression(max_iter=1000)\n",
    "\n",
    "# fit the model on the training data\n",
    "logreg.fit(X_train, y_train)\n",
    "\n",
    "# predict the ratings for the test data\n",
    "y_pred = logreg.predict(X_test)\n",
    "\n",
    "accuracy = accuracy_score(y_test, y_pred)\n",
    "print('Accuracy:', accuracy)\n"
   ]
  },
  {
   "cell_type": "markdown",
   "id": "8982dec8",
   "metadata": {},
   "source": [
    "# Get the feature names (i.e., words)\n",
    "feature_names = np.array(tfidf_vectorizer.get_feature_names())\n",
    "\n",
    "# Get the coefficients and their indices\n",
    "coef = logreg.coef_.ravel()\n",
    "top_coef_indices = coef.argsort()[::-1][:10]\n",
    "\n",
    "# Get the top 10 most important words\n",
    "top_coef_words = feature_names[top_coef_indices]\n",
    "\n",
    "# Print the top 10 most important words\n",
    "print('Top 10 most important words:')\n",
    "print(top_coef_words)"
   ]
  },
  {
   "cell_type": "markdown",
   "id": "4a5d2507",
   "metadata": {},
   "source": [
    "### Model TF-IDF - FEATURES"
   ]
  },
  {
   "cell_type": "code",
   "execution_count": null,
   "id": "4297545c",
   "metadata": {},
   "outputs": [],
   "source": [
    "# Define variables\n",
    "X_concat = pd.concat([df[['LengthReview', 'NumPunctuations', 'NumHashtags', 'NumSentences', 'NumWords', 'AllAlphabets', 'AllDigits', 'AllAlNum', 'NumAtSigns']]], axis=1)\n",
    "X = pd.concat([X_concat, df2], axis=1)              \n",
    "y = df['rating'].ravel()\n",
    "\n",
    "#split dataset into training and testing sets\n",
    "train_features, test_features, train_labels, test_labels = train_test_split(X, y, \n",
    "                                                                            test_size = 0.3, random_state = 42)\n",
    "\n",
    "#increase max_iter to reach convergence\n",
    "clf = LogisticRegression(random_state=0, max_iter = 200).fit(train_features, train_labels)\n",
    "\n",
    "predictions = clf.predict(test_features)\n",
    "\n",
    "print(f\"Mean accuracy score: {clf.score(test_features, test_labels):.2f}\")\n"
   ]
  },
  {
   "cell_type": "markdown",
   "id": "54e69d77",
   "metadata": {},
   "source": [
    "### Más modelos"
   ]
  },
  {
   "cell_type": "code",
   "execution_count": null,
   "id": "a7555b07",
   "metadata": {},
   "outputs": [],
   "source": [
    "df.columns"
   ]
  },
  {
   "cell_type": "markdown",
   "id": "d8447f16",
   "metadata": {},
   "source": [
    "###### Features"
   ]
  },
  {
   "cell_type": "code",
   "execution_count": null,
   "id": "a5bc8544",
   "metadata": {},
   "outputs": [],
   "source": [
    "# Variable a predecir\n",
    "y = df[\"rating\"].ravel()\n",
    "\n",
    "#Convertimos a Dummy algunas de las variables predictoras\n",
    "X = df[['LengthReview',\n",
    "       'NumPunctuations', 'NumHashtags', 'NumSentences', 'NumWords',\n",
    "       'AllAlphabets', 'AllDigits', 'AllAlNum', 'NumAtSigns', 'love_count',\n",
    "       'life_count', 'characters_count', 'world_count', 'young_count',\n",
    "       'plot_count', 'real_count', 'acting_count', 'rating']]\n",
    "X = pd.DataFrame(StandardScaler().fit_transform(X), columns= X.columns)\n",
    "\n",
    "X_train, X_test, y_train, y_test = train_test_split(X, y, train_size=0.7)\n",
    "\n",
    "k_values = range(2, 10, 1)\n",
    "confusion_matrices_av = {}\n",
    "indices = {}\n",
    "for k in k_values:\n",
    "  prediccion = KNeighborsClassifier(n_neighbors=k, metric='cosine').fit(X_train.values,y_train).predict(X_test.values)\n",
    "  MC = confusion_matrix(y_test, prediccion)\n",
    "  indices[k] = indices_general(MC)\n",
    "  confusion_matrices_av[k] = MC\n",
    "\n",
    "for k in k_values:\n",
    "  print(\"\\n\" +\"*\" * 20 + \"\\nPara k = %i\\n\" % k + \"*\" * 20 )\n",
    "  for i in indices[k]:\n",
    "    print(\"\\n%s:\\n%s\"%(i,str(indices[k][i])))\n"
   ]
  },
  {
   "cell_type": "code",
   "execution_count": null,
   "id": "8b7e799b",
   "metadata": {},
   "outputs": [],
   "source": [
    "k_values = [\"ball_tree\",\"kd_tree\" ,  \"brute\"]\n",
    "confusion_matrices_fn = {}\n",
    "indices = {}\n",
    "for k in k_values:\n",
    "  prediccion = KNeighborsClassifier(n_neighbors=9, metric='cosine').fit(X_train.values,y_train).predict(X_test.values)\n",
    "  MC = confusion_matrix(y_test, prediccion)\n",
    "  indices[k] = indices_general(MC)\n",
    "  confusion_matrices_fn[k] = MC"
   ]
  },
  {
   "cell_type": "code",
   "execution_count": null,
   "id": "c969ec2b",
   "metadata": {},
   "outputs": [],
   "source": [
    "for k in k_values:\n",
    "  print(\"\\n\" +\"*\" * 30 + \"\\nPara algorithm = %s\\n\" % k + \"*\" * 30)\n",
    "  for i in indices[k]:\n",
    "    print(\"\\n%s:\\n%s\"%(i,str(indices[k][i])))"
   ]
  },
  {
   "cell_type": "markdown",
   "id": "74992b78",
   "metadata": {},
   "source": [
    "###### TF"
   ]
  },
  {
   "cell_type": "code",
   "execution_count": null,
   "id": "cac834e5",
   "metadata": {},
   "outputs": [],
   "source": [
    "# Variable a predecir\n",
    "y = df[\"rating\"].ravel()\n",
    "\n",
    "#Convertimos a Dummy algunas de las variables predictoras\n",
    "X = df2.copy() # create a copy of df2 as a Pandas DataFrame\n",
    "X = pd.DataFrame(StandardScaler().fit_transform(X), columns=X.columns)\n",
    "\n",
    "X_train, X_test, y_train, y_test = train_test_split(X, y, train_size=0.7)\n",
    "\n",
    "k_values = range(2, 10, 1)\n",
    "confusion_matrices_tf = {}\n",
    "indices = {}\n",
    "for k in k_values:\n",
    "  prediccion = KNeighborsClassifier(n_neighbors=k, metric='cosine').fit(X_train.values, y_train).predict(X_test.values)\n",
    "  MC = confusion_matrix(y_test, prediccion)\n",
    "  indices[k] = indices_general(MC)\n",
    "  confusion_matrices_av[k] = MC\n",
    "\n",
    "for k in k_values:\n",
    "  print(\"\\n\" +\"*\" * 20 + \"\\nPara k = %i\\n\" % k + \"*\" * 20 )\n",
    "  for i in indices[k]:\n",
    "    print(\"\\n%s:\\n%s\"%(i, str(indices[k][i])))"
   ]
  },
  {
   "cell_type": "code",
   "execution_count": null,
   "id": "93d67dd4",
   "metadata": {},
   "outputs": [],
   "source": [
    "k_values = [\"ball_tree\",\"kd_tree\" ,  \"brute\"]\n",
    "confusion_matrices_tfn = {}\n",
    "indices = {}\n",
    "for k in k_values:\n",
    "  prediccion = KNeighborsClassifier(n_neighbors=9, metric='cosine').fit(X_train.values,y_train).predict(X_test.values)\n",
    "  MC = confusion_matrix(y_test, prediccion)\n",
    "  indices[k] = indices_general(MC)\n",
    "  confusion_matrices_tfn[k] = MC"
   ]
  },
  {
   "cell_type": "code",
   "execution_count": null,
   "id": "7049b555",
   "metadata": {},
   "outputs": [],
   "source": [
    "for k in k_values:\n",
    "  print(\"\\n\" +\"*\" * 30 + \"\\nPara algorithm = %s\\n\" % k + \"*\" * 30)\n",
    "  for i in indices[k]:\n",
    "    print(\"\\n%s:\\n%s\"%(i,str(indices[k][i])))"
   ]
  },
  {
   "cell_type": "markdown",
   "id": "bebab179",
   "metadata": {},
   "source": [
    "### Árboles"
   ]
  },
  {
   "cell_type": "markdown",
   "id": "64827fc9",
   "metadata": {},
   "source": [
    "##### Features"
   ]
  },
  {
   "cell_type": "code",
   "execution_count": null,
   "id": "1d7c9f24",
   "metadata": {},
   "outputs": [],
   "source": [
    "# Variable a predecir\n",
    "y = df[\"rating\"].ravel()\n",
    "\n",
    "#Convertimos a Dummy algunas de las variables predictoras\n",
    "X = df[['LengthReview',\n",
    "       'NumPunctuations', 'NumHashtags', 'NumSentences', 'NumWords',\n",
    "       'AllAlphabets', 'AllDigits', 'AllAlNum', 'NumAtSigns', 'love_count',\n",
    "       'life_count', 'characters_count', 'world_count', 'young_count',\n",
    "       'plot_count', 'real_count', 'acting_count', 'rating']]\n",
    "X = pd.DataFrame(StandardScaler().fit_transform(X), columns= X.columns)\n",
    "\n",
    "X_train, X_test, y_train, y_test = train_test_split(X, y, train_size=0.7)\n",
    "\n",
    "instancia_arbol = DecisionTreeClassifier(criterion = 'entropy')\n",
    "\n",
    "instancia_arbol.fit(X_train,y_train)\n",
    "\n",
    "prediccion = instancia_arbol.predict(X_test)\n",
    "unique_labels = np.unique(y)\n",
    "confusion_matrices_fav = confusion_matrix(y_test, prediccion)\n",
    "indices = indices_general(confusion_matrices_fav, list(unique_labels))\n",
    "\n",
    "for k in indices:\n",
    "    print(\"\\n%s:\\n%s\"%(k,str(indices[k])))"
   ]
  },
  {
   "cell_type": "markdown",
   "id": "c37ed92e",
   "metadata": {},
   "source": [
    "##### TF"
   ]
  },
  {
   "cell_type": "code",
   "execution_count": null,
   "id": "ae8facb3",
   "metadata": {},
   "outputs": [],
   "source": [
    "# Variable a predecir\n",
    "y = df[\"rating\"].ravel()\n",
    "\n",
    "#Convertimos a Dummy algunas de las variables predictoras\n",
    "X = df2.copy() # create a copy of df2 as a Pandas DataFrame\n",
    "X = pd.DataFrame(StandardScaler().fit_transform(X), columns=X.columns)\n",
    "\n",
    "X_train, X_test, y_train, y_test = train_test_split(X, y, train_size=0.7)\n",
    "\n",
    "instancia_arbol = DecisionTreeClassifier(criterion = 'entropy')\n",
    "\n",
    "instancia_arbol.fit(X_train,y_train)\n",
    "\n",
    "prediccion = instancia_arbol.predict(X_test)\n",
    "unique_labels = np.unique(y)\n",
    "confusion_matrices_fav = confusion_matrix(y_test, prediccion)\n",
    "indices = indices_general(confusion_matrices_fav, list(unique_labels))\n",
    "\n",
    "for k in indices:\n",
    "    print(\"\\n%s:\\n%s\"%(k,str(indices[k])))"
   ]
  },
  {
   "cell_type": "markdown",
   "id": "8d47465c",
   "metadata": {},
   "source": [
    "### Bosque"
   ]
  },
  {
   "cell_type": "code",
   "execution_count": null,
   "id": "13861472",
   "metadata": {},
   "outputs": [],
   "source": [
    "object_cols = df.select_dtypes(include=['object']).columns\n",
    "\n",
    "# Aplicar transformación a cada col\n",
    "for col in object_cols:\n",
    "    df[col] = df[col].astype('category')\n",
    "    df[col] = df[col].cat.codes\n",
    "    df[col] = df[col].astype('category')\n",
    "df.head()"
   ]
  },
  {
   "cell_type": "code",
   "execution_count": null,
   "id": "64dac226",
   "metadata": {},
   "outputs": [],
   "source": [
    "instancia_bosques = RandomForestClassifier(n_estimators = 500, criterion = \"gini\", min_samples_split = 200)\n",
    "\n",
    "analisis_canceladosBA = Analisis_Predictivo(df,\n",
    "                                       predecir = \"is_canceled\",\n",
    "                                       modelo   = instancia_bosques,\n",
    "                                       train_size = 0.8)"
   ]
  },
  {
   "cell_type": "code",
   "execution_count": null,
   "id": "c9406bc2",
   "metadata": {},
   "outputs": [],
   "source": [
    "resultadosBA = analisis_canceladosBA.fit_predict_resultados()"
   ]
  },
  {
   "cell_type": "markdown",
   "id": "44d5b07d",
   "metadata": {},
   "source": [
    "### ADA"
   ]
  },
  {
   "cell_type": "code",
   "execution_count": null,
   "id": "b5985909",
   "metadata": {},
   "outputs": [],
   "source": [
    "dfADA = df.copy()\n",
    "#Instancia Árboles de decisión\n",
    "instancia_treeADA = DecisionTreeClassifier(min_samples_split = 200, \n",
    "                                        max_depth = None,\n",
    "                                        criterion = \"gini\")\n",
    "\n",
    "#El parámetro base_estimator puede tomar como valor una instancia \n",
    "#de algún método de clasificación(SVM,Logistic Regression, etc).\n",
    "instancia_ADA = AdaBoostClassifier(base_estimator = instancia_treeADA,\n",
    "                                   n_estimators   = 500)\n",
    "\n",
    "analisis_canceladosADA = Analisis_Predictivo(dfADA,\n",
    "                                    predecir   = \"is_canceled\",\n",
    "                                    modelo     = instancia_ADA, \n",
    "                                    estandarizar = True,\n",
    "                                    train_size   = 0.8)\n",
    "resultadosADA = analisis_canceladosADA.fit_predict_resultados()\n",
    "resultadosADA = analisis_canceladosADA.fit_predict_resultados()"
   ]
  },
  {
   "cell_type": "markdown",
   "id": "002febae",
   "metadata": {},
   "source": [
    "### XG"
   ]
  },
  {
   "cell_type": "code",
   "execution_count": null,
   "id": "45b238a6",
   "metadata": {},
   "outputs": [],
   "source": [
    "instancia_gbc = GradientBoostingClassifier(n_estimators = 500, min_samples_split = 200)\n",
    "\n",
    "analisis_canceladosXG = Analisis_Predictivo(df,predecir = \"is_canceled\", modelo = instancia_gbc,train_size = 0.8)\n",
    "\n",
    "resultadosXG = analisis_canceladosXG.fit_predict_resultados()"
   ]
  },
  {
   "cell_type": "markdown",
   "id": "58e05e66",
   "metadata": {},
   "source": [
    "### SVM"
   ]
  },
  {
   "cell_type": "code",
   "execution_count": null,
   "id": "df5f885a",
   "metadata": {},
   "outputs": [],
   "source": [
    "dummies = pd.get_dummies(df[object_cols])\n",
    "dummies = dummies.drop('is_canceled_0', axis=1)\n",
    "dummies = dummies.drop('is_canceled_1', axis=1)\n",
    "\n",
    "dfd = pd.concat([df.select_dtypes(exclude=['category']), df['is_canceled'], dummies], axis=1)"
   ]
  },
  {
   "cell_type": "code",
   "execution_count": null,
   "id": "be68040d",
   "metadata": {},
   "outputs": [],
   "source": [
    "instancia_svm = SVC(kernel=\"rbf\")\n",
    "\n",
    "analisis_canceladosSVC = Analisis_Predictivo(dfd, predecir = \"is_canceled\", modelo = instancia_svm, train_size = 0.8)"
   ]
  },
  {
   "cell_type": "code",
   "execution_count": null,
   "id": "a5561ac3",
   "metadata": {},
   "outputs": [],
   "source": [
    "resultadossvm = analisis_canceladosSVC.fit_predict_resultados()"
   ]
  },
  {
   "cell_type": "markdown",
   "id": "d3ae1234",
   "metadata": {},
   "source": [
    "#### Poly"
   ]
  },
  {
   "cell_type": "code",
   "execution_count": null,
   "id": "bcf91901",
   "metadata": {},
   "outputs": [],
   "source": [
    "instancia_svmPoly = SVC(kernel=\"poly\", degree = 3, C = 20)\n",
    "\n",
    "analisis_canceladosSVMPoly = Analisis_Predictivo(dfd, predecir = \"is_canceled\", modelo = instancia_svmPoly, train_size = 0.8)\n",
    "\n",
    "resultadosSVMPoly = analisis_canceladosSVMPoly.fit_predict_resultados()"
   ]
  },
  {
   "cell_type": "markdown",
   "id": "1388150f",
   "metadata": {},
   "source": [
    "#### RBF"
   ]
  },
  {
   "cell_type": "code",
   "execution_count": null,
   "id": "b4cb6746",
   "metadata": {},
   "outputs": [],
   "source": [
    "instancia_svmRBF = SVC(kernel=\"rbf\", C = 15)\n",
    "\n",
    "analisis_canceladosSVMRBF = Analisis_Predictivo(dfd, predecir = \"is_canceled\", modelo = instancia_svmRBF, train_size = 0.8)\n",
    "\n",
    "resultadosSVMRBF = analisis_canceladosSVMRBF.fit_predict_resultados()"
   ]
  },
  {
   "cell_type": "markdown",
   "id": "e3618640",
   "metadata": {},
   "source": [
    "#### Sigmoid"
   ]
  },
  {
   "cell_type": "code",
   "execution_count": null,
   "id": "acbf3132",
   "metadata": {},
   "outputs": [],
   "source": [
    "instancia_svmS = SVC(kernel=\"sigmoid\",  C = 15)\n",
    "\n",
    "analisis_canceladossvmS = Analisis_Predictivo(dfd,predecir = \"is_canceled\",modelo = instancia_svmS, train_size = 0.8)\n",
    "\n",
    "resultadosSVMS = analisis_canceladossvmS.fit_predict_resultados()"
   ]
  },
  {
   "cell_type": "markdown",
   "id": "d4be1928",
   "metadata": {},
   "source": [
    "#### Linear"
   ]
  },
  {
   "cell_type": "code",
   "execution_count": null,
   "id": "17e815ed",
   "metadata": {},
   "outputs": [],
   "source": [
    "instancia_svmL = SVC(kernel=\"linear\", C = 20)\n",
    "\n",
    "analisis_canceladossvmL = Analisis_Predictivo(dfd, predecir = \"is_canceled\",modelo = instancia_svmL, train_size = 0.8)\n",
    "\n",
    "resultadosSVML = analisis_canceladossvmL.fit_predict_resultados()"
   ]
  },
  {
   "cell_type": "markdown",
   "id": "50cb5a1e",
   "metadata": {},
   "source": [
    "### Comparación"
   ]
  },
  {
   "cell_type": "code",
   "execution_count": null,
   "id": "2f142485",
   "metadata": {},
   "outputs": [],
   "source": [
    "knnavk2 = np.array(confusion_matrices_av[2])\n",
    "knnavk3 = np.array(confusion_matrices_av[3])\n",
    "knnavk4 = np.array(confusion_matrices_av[4])\n",
    "knnavk5 = np.array(confusion_matrices_av[5])\n",
    "knnavk6 = np.array(confusion_matrices_av[6])\n",
    "knnavk7 = np.array(confusion_matrices_av[7])\n",
    "knnavk8 = np.array(confusion_matrices_av[8])\n",
    "knnavk9 = np.array(confusion_matrices_av[9])\n",
    "knnavNballTree = confusion_matrices_avn[\"ball_tree\"]\n",
    "knnavNkdTree = confusion_matrices_avn[\"kd_tree\"]\n",
    "knnavNbrute = confusion_matrices_avn[\"brute\"]\n",
    "knn10vNballTree = confusion_matrices_10vn[\"ball_tree\"]\n",
    "knn10vNkdTree = confusion_matrices_10vn[\"kd_tree\"]\n",
    "knn10vNbrute = confusion_matrices_10vn[\"brute\"]\n",
    "aav = confusion_matrices_aav\n",
    "a8v = confusion_matrices_a8v\n",
    "BAav = resultadosBA['Matriz de Confusión']\n",
    "ADAav = resultadosADA['Matriz de Confusión']\n",
    "XGav = resultadosXG['Matriz de Confusión']\n",
    "BA7v = resultadosBA7['Matriz de Confusión']\n",
    "ADA7v = resultadosADA7['Matriz de Confusión']\n",
    "XG7v = resultadosXG7['Matriz de Confusión']\n",
    "SVMav = resultadossvm['Matriz de Confusión']\n",
    "SVMavPoly = resultadosSVMPoly['Matriz de Confusión']\n",
    "SVMavRBF = resultadosSVMRBF['Matriz de Confusión']\n",
    "SVMavSigmoid = resultadosSVMS['Matriz de Confusión']\n",
    "SVMavLinear = resultadosSVML['Matriz de Confusión']\n",
    "SVM6vRBF = resultadosSVMRBF6['Matriz de Confusión']"
   ]
  },
  {
   "cell_type": "code",
   "execution_count": null,
   "id": "b6c047cc",
   "metadata": {},
   "outputs": [],
   "source": [
    "knnavk2_modelo1 = c.Parametros(knnavk2)\n",
    "knnavk3_modelo2 = c.Parametros(knnavk3)\n",
    "knnavk4_modelo3 = c.Parametros(knnavk4)\n",
    "knnavk5_modelo4 = c.Parametros(knnavk5)\n",
    "knnavk6_modelo5 = c.Parametros(knnavk6)\n",
    "knnavk7_modelo6 = c.Parametros(knnavk7)\n",
    "knnavk8_modelo7 = c.Parametros(knnavk8)\n",
    "knnavk9_modelo8 = c.Parametros(knnavk9)\n",
    "knnavNballTree_modelo9 = c.Parametros(knnavNballTree)\n",
    "knnavNkdTree_modelo10 = c.Parametros(knnavNkdTree)\n",
    "knnavNbrute_modelo11 = c.Parametros(knnavNbrute)\n",
    "knn10vNballTree_modelo12 = c.Parametros(knn10vNballTree)\n",
    "knn10vNkdTree_modelo13 = c.Parametros(knn10vNkdTree)\n",
    "knn10vNbrute_modelo14 = c.Parametros(knn10vNbrute)\n",
    "aav_modelo15 = c.Parametros(aav)\n",
    "a8v_modelo16 = c.Parametros(a8v)\n",
    "BAav_modelo17 = c.Parametros(BAav)\n",
    "ADAav_modelo18 = c.Parametros(ADAav)\n",
    "XGav_modelo19= c.Parametros(XGav)\n",
    "BA7v_modelo20 = c.Parametros(BA7v)\n",
    "ADA7v_modelo21 = c.Parametros(ADA7v)\n",
    "XG7v_modelo22= c.Parametros(XG7v)\n",
    "SVMav_modelo23= c.Parametros(SVMav)\n",
    "SVMavPoly_modelo24= c.Parametros(SVMavPoly)\n",
    "SVMavRBF_modelo25= c.Parametros(SVMavRBF)\n",
    "SVMavSigmoid_modelo26= c.Parametros(SVMavSigmoid)\n",
    "SVMavLinear_modelo27= c.Parametros(SVMavLinear)\n",
    "SVM6vRBF_modelo28= c.Parametros(SVM6vRBF)"
   ]
  },
  {
   "cell_type": "code",
   "execution_count": null,
   "id": "f8b52cdd",
   "metadata": {},
   "outputs": [],
   "source": [
    "modelos = [knnavk2_modelo1,knnavk3_modelo2,knnavk4_modelo3,knnavk5_modelo4,knnavk6_modelo5,knnavk7_modelo6,knnavk8_modelo7, \n",
    "           knnavk9_modelo8,knnavNballTree_modelo9,knnavNkdTree_modelo10,knnavNbrute_modelo11,knn10vNballTree_modelo12, \n",
    "           knn10vNkdTree_modelo13,knn10vNbrute_modelo14,aav_modelo15,a8v_modelo16,BAav_modelo17,ADAav_modelo18,XGav_modelo19,\n",
    "           BA7v_modelo20,ADA7v_modelo21,XG7v_modelo22,SVMav_modelo23,SVMavPoly_modelo24,SVMavRBF_modelo25,SVMavSigmoid_modelo26,\n",
    "           SVMavLinear_modelo27,SVM6vRBF_modelo28]\n"
   ]
  },
  {
   "cell_type": "code",
   "execution_count": null,
   "id": "0a01712b",
   "metadata": {},
   "outputs": [],
   "source": [
    "datos = []\n",
    "for modelo in modelos:\n",
    "    datos_modelo = {\n",
    "        \"Modelo\": \"Modelo \" + str(modelos.index(modelo) + 1),\n",
    "        \"Precisión Global\": modelo.precision_global(),\n",
    "        \"Error Global\": modelo.error_global(),\n",
    "        \"Precisión Positiva\": modelo.precision_positiva(),\n",
    "        \"Precisión Negativa\": modelo.precision_negativa(),\n",
    "    }\n",
    "    datos.append(datos_modelo)\n",
    "\n",
    "comparacion_modelo = pd.DataFrame(datos)\n",
    "\n",
    "comparacion_modelo = comparacion_modelo.set_index('Modelo')\n",
    "comparacion_modelo"
   ]
  }
 ],
 "metadata": {
  "kernelspec": {
   "display_name": "Python 3 (ipykernel)",
   "language": "python",
   "name": "python3"
  },
  "language_info": {
   "codemirror_mode": {
    "name": "ipython",
    "version": 3
   },
   "file_extension": ".py",
   "mimetype": "text/x-python",
   "name": "python",
   "nbconvert_exporter": "python",
   "pygments_lexer": "ipython3",
   "version": "3.9.12"
  }
 },
 "nbformat": 4,
 "nbformat_minor": 5
}
